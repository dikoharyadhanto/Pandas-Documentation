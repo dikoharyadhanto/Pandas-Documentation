{
  "nbformat": 4,
  "nbformat_minor": 0,
  "metadata": {
    "colab": {
      "name": "005-Penggabungan_Series/DataFrame.ipynb",
      "provenance": [],
      "authorship_tag": "ABX9TyNVW7qJt5b3RWrSBAAk6qKm",
      "include_colab_link": true
    },
    "kernelspec": {
      "name": "python3",
      "display_name": "Python 3"
    },
    "language_info": {
      "name": "python"
    }
  },
  "cells": [
    {
      "cell_type": "markdown",
      "metadata": {
        "id": "view-in-github",
        "colab_type": "text"
      },
      "source": [
        "<a href=\"https://colab.research.google.com/github/dikoharyadhanto/Pandas-Documentation/blob/main/005-Penggabungan_Series_DataFrame.ipynb\" target=\"_parent\"><img src=\"https://colab.research.google.com/assets/colab-badge.svg\" alt=\"Open In Colab\"/></a>"
      ]
    },
    {
      "cell_type": "markdown",
      "metadata": {
        "id": "7zpfb915CDvg"
      },
      "source": [
        "Referensi: https://pandas.pydata.org/pandas-docs/stable/user_guide/merging.html"
      ]
    },
    {
      "cell_type": "markdown",
      "metadata": {
        "id": "BuZgWX5mCIzQ"
      },
      "source": [
        "# **Bagaimana Cara Menggabungkan Pandas Series/Dataframe?**"
      ]
    },
    {
      "cell_type": "markdown",
      "metadata": {
        "id": "1LGObANeCY-c"
      },
      "source": [
        "Dengan menggunakan excel atau tools pengolah spreadsheet lain hal itu bisa terjadi mungkin dengan menggunakan copy paste file satu ke file lainnya atau yang agak canggih menggunakan method importRange di google sheets. \n",
        "\n",
        "Tetapi tentu hal itu tidak bisa diandalkan ketika berurusan dengan big data yang datanya bisa milyaran rows dengan informasi yang tidak terbatas, Python dan Pandas adalah satu-satunya cara untuk mengatasinya."
      ]
    },
    {
      "cell_type": "markdown",
      "metadata": {
        "id": "_cm_nkRbCaFt"
      },
      "source": [
        "Terdapat beberapa metode untuk menggabungkan Series/Dataframe di Pandas, yaitu:\n",
        "\n",
        "- append\n",
        "- concat\n",
        "- merge\n",
        "- join"
      ]
    },
    {
      "cell_type": "markdown",
      "metadata": {
        "id": "p5IntQVjCeyc"
      },
      "source": [
        "## **Method .append()**"
      ]
    },
    {
      "cell_type": "markdown",
      "metadata": {
        "id": "S6LQqKrfC-LN"
      },
      "source": [
        "Method `.append()` dapat digunakan pada dataframe/series yang ditujukan untuk menambah row-nya saja. Jika di SQL memiliki 2 tabel atau lebih maka dapat menggabungkannya secara vertikal dengan Union. Jadi SQL Union ekuivalen dengan method `.append()` di Pandas."
      ]
    },
    {
      "cell_type": "code",
      "metadata": {
        "id": "TXuShpxVDFtM",
        "colab": {
          "base_uri": "https://localhost:8080/"
        },
        "outputId": "7881004a-47d9-4725-ec80-a6f009875001"
      },
      "source": [
        "import pandas as pd\n",
        "# Buat series of int (s1) dan series of string (s2)\n",
        "s1 = pd.Series([1,2,3,4,5,6])\n",
        "s2 = pd.Series([\"a\",\"b\",\"c\",\"d\",\"e\",\"f\"])\n",
        "# Terapkan method append\n",
        "s2_append_s1 = s2.append(s1)\n",
        "print(\"Series - append:\\n\", s2_append_s1)"
      ],
      "execution_count": 1,
      "outputs": [
        {
          "output_type": "stream",
          "name": "stdout",
          "text": [
            "Series - append:\n",
            " 0    a\n",
            "1    b\n",
            "2    c\n",
            "3    d\n",
            "4    e\n",
            "5    f\n",
            "0    1\n",
            "1    2\n",
            "2    3\n",
            "3    4\n",
            "4    5\n",
            "5    6\n",
            "dtype: object\n"
          ]
        }
      ]
    },
    {
      "cell_type": "code",
      "metadata": {
        "id": "aKwoLZN9B79t",
        "colab": {
          "base_uri": "https://localhost:8080/"
        },
        "outputId": "0aba2485-dc9d-4015-d97d-1df0dd7080ba"
      },
      "source": [
        "# Buat dataframe df1 dan df2\n",
        "df1 = pd.DataFrame({'a':[1,2],\n",
        "\t\t\t\t\t'b':[3,4]})\n",
        "df2 = pd.DataFrame({'b':[1,2],\n",
        "\t\t\t\t\t'a':[3,4]})\n",
        "# Terapkan method append\n",
        "df2_append_df1 = df2.append(df1)\n",
        "print(\"Dataframe - append:\\n\", df2_append_df1)"
      ],
      "execution_count": 2,
      "outputs": [
        {
          "output_type": "stream",
          "name": "stdout",
          "text": [
            "Dataframe - append:\n",
            "    b  a\n",
            "0  1  3\n",
            "1  2  4\n",
            "0  3  1\n",
            "1  4  2\n"
          ]
        }
      ]
    },
    {
      "cell_type": "markdown",
      "metadata": {
        "id": "RgkAk6-gGpYZ"
      },
      "source": [
        "## **Method .concat()**"
      ]
    },
    {
      "cell_type": "markdown",
      "metadata": {
        "id": "tl66OWeUGuxl"
      },
      "source": [
        "Method `.concat()` dapat digunakan pada dataframe yang ditujukan untuk penggabungan baik dalam row-wise (dalam arah ) atau column-wise."
      ]
    },
    {
      "cell_type": "code",
      "metadata": {
        "id": "mipN0nMZGyIz"
      },
      "source": [
        "import pandas as pd\n",
        "# Buat dataframe df1 dan df2\n",
        "df1 = pd.DataFrame({'a':[1,2],\n",
        "\t\t\t\t\t'b':[3,4]})\n",
        "df2 = pd.DataFrame({'b':[1,2],\n",
        "\t\t\t\t\t'a':[3,4]})"
      ],
      "execution_count": 3,
      "outputs": []
    },
    {
      "cell_type": "code",
      "metadata": {
        "id": "MqtHdW2FH0M1",
        "colab": {
          "base_uri": "https://localhost:8080/"
        },
        "outputId": "a9f9831f-c2d9-4efa-842e-d98f8d2482aa"
      },
      "source": [
        "# Terapkan method concat row-wise\n",
        "row_wise_concat = pd.concat([df2, df1])\n",
        "print(\"Row-wise - concat:\\n\", row_wise_concat)"
      ],
      "execution_count": 4,
      "outputs": [
        {
          "output_type": "stream",
          "name": "stdout",
          "text": [
            "Row-wise - concat:\n",
            "    b  a\n",
            "0  1  3\n",
            "1  2  4\n",
            "0  3  1\n",
            "1  4  2\n"
          ]
        }
      ]
    },
    {
      "cell_type": "code",
      "metadata": {
        "id": "JeKs5j89H2fR",
        "colab": {
          "base_uri": "https://localhost:8080/"
        },
        "outputId": "2c71d08f-c027-4e16-c1b6-cda5b91d0f49"
      },
      "source": [
        "# Terapkan method concat column-wise\n",
        "col_wise_concat = pd.concat([df2,df1], axis=1)\n",
        "print(\"Column-wise - concat:\\n\", col_wise_concat)"
      ],
      "execution_count": 5,
      "outputs": [
        {
          "output_type": "stream",
          "name": "stdout",
          "text": [
            "Column-wise - concat:\n",
            "    b  a  a  b\n",
            "0  1  3  1  3\n",
            "1  2  4  2  4\n"
          ]
        }
      ]
    },
    {
      "cell_type": "code",
      "metadata": {
        "id": "DhxKdNGtH4_i",
        "colab": {
          "base_uri": "https://localhost:8080/"
        },
        "outputId": "99bbc82e-480f-4097-cded-bc4bf783c002"
      },
      "source": [
        "# Penambahan identifier --> membentuk hasil penggabungan multiindex\n",
        "multiindex_concat = pd.concat([df2,df1], axis=0, keys=['df1','df2'])\n",
        "print(\"Multiindex - concat:\\n\", multiindex_concat)"
      ],
      "execution_count": 6,
      "outputs": [
        {
          "output_type": "stream",
          "name": "stdout",
          "text": [
            "Multiindex - concat:\n",
            "        b  a\n",
            "df1 0  1  3\n",
            "    1  2  4\n",
            "df2 0  3  1\n",
            "    1  4  2\n"
          ]
        }
      ]
    },
    {
      "cell_type": "markdown",
      "metadata": {
        "id": "yYV11bbHdE63"
      },
      "source": [
        "## **Method .merge()**"
      ]
    },
    {
      "cell_type": "markdown",
      "metadata": {
        "id": "zkU5dOprdH5-"
      },
      "source": [
        "Method `.merge()` untuk menggabungkan Series/Dataframe yang bentuknya mirip dengan syntax join di SQL, specify left and right tables, join key dan how to join (left, right, inner, full outer). "
      ]
    },
    {
      "cell_type": "markdown",
      "metadata": {
        "id": "LUxZJstFhg60"
      },
      "source": [
        "Penggunaan method `.merge` ini adalah untuk dataframe dengan index tunggal."
      ]
    },
    {
      "cell_type": "code",
      "metadata": {
        "id": "vq4Ah2L9fGEL",
        "colab": {
          "base_uri": "https://localhost:8080/"
        },
        "outputId": "9645bc23-db4d-4f2d-d0ef-8c808d9a20c4"
      },
      "source": [
        "import pandas as pd\n",
        "# Buat dataframe df1 dan df2\n",
        "df1 = pd.DataFrame({\n",
        "   'key':['k1','k2','k3','k4','k5'],\n",
        "   'val1':[200, 500, 0, 500, 100],\n",
        "   'val2':[30, 50, 100, 20, 10]\n",
        "})\n",
        "df2 = pd.DataFrame({\n",
        "   'key':['k1','k3','k5','k7','k10'],\n",
        "   'val3':[1,2,3,4,5],\n",
        "   'val4':[6,7,8,8,10]\n",
        "})\n",
        "\n",
        "print('df1:\\n', df1)\n",
        "print('\\ndf2:\\n', df2)"
      ],
      "execution_count": 7,
      "outputs": [
        {
          "output_type": "stream",
          "name": "stdout",
          "text": [
            "df1:\n",
            "   key  val1  val2\n",
            "0  k1   200    30\n",
            "1  k2   500    50\n",
            "2  k3     0   100\n",
            "3  k4   500    20\n",
            "4  k5   100    10\n",
            "\n",
            "df2:\n",
            "    key  val3  val4\n",
            "0   k1     1     6\n",
            "1   k3     2     7\n",
            "2   k5     3     8\n",
            "3   k7     4     8\n",
            "4  k10     5    10\n"
          ]
        }
      ]
    },
    {
      "cell_type": "code",
      "metadata": {
        "id": "RbkQm7lwfH4t",
        "colab": {
          "base_uri": "https://localhost:8080/"
        },
        "outputId": "2f87031f-776b-4e82-a08e-cf407862f7f9"
      },
      "source": [
        "# Merge yang ekivalen dengan SQL left join\n",
        "merge_df_left =pd.merge(left=df2, right=df1, how='left', left_on='key', right_on='key') \n",
        "print('Merge - Left:\\n', merge_df_left)"
      ],
      "execution_count": 8,
      "outputs": [
        {
          "output_type": "stream",
          "name": "stdout",
          "text": [
            "Merge - Left:\n",
            "    key  val3  val4   val1   val2\n",
            "0   k1     1     6  200.0   30.0\n",
            "1   k3     2     7    0.0  100.0\n",
            "2   k5     3     8  100.0   10.0\n",
            "3   k7     4     8    NaN    NaN\n",
            "4  k10     5    10    NaN    NaN\n"
          ]
        }
      ]
    },
    {
      "cell_type": "code",
      "metadata": {
        "id": "BQau1EeHfNfc",
        "colab": {
          "base_uri": "https://localhost:8080/"
        },
        "outputId": "a74c442b-e26e-44f0-cc47-b1a3467313a1"
      },
      "source": [
        "# Merge yang ekivalen dengan SQL right join\n",
        "merge_df_right = pd.merge(left=df2, right=df1, how='right', left_on='key', right_on='key')\n",
        "print('Merge - Right:\\n', merge_df_right)"
      ],
      "execution_count": 9,
      "outputs": [
        {
          "output_type": "stream",
          "name": "stdout",
          "text": [
            "Merge - Right:\n",
            "   key  val3  val4  val1  val2\n",
            "0  k1   1.0   6.0   200    30\n",
            "1  k2   NaN   NaN   500    50\n",
            "2  k3   2.0   7.0     0   100\n",
            "3  k4   NaN   NaN   500    20\n",
            "4  k5   3.0   8.0   100    10\n"
          ]
        }
      ]
    },
    {
      "cell_type": "code",
      "metadata": {
        "id": "D4cJPDWkfTI1",
        "colab": {
          "base_uri": "https://localhost:8080/"
        },
        "outputId": "60eba39f-aa51-4469-f2ae-0274c639b020"
      },
      "source": [
        "# Merge yang ekivalen dengan SQL inner join\n",
        "merge_df_inner = pd.merge(left=df2, right=df1, how='inner', left_on='key', right_on='key')\n",
        "print('Merge - Inner:\\n', merge_df_inner)"
      ],
      "execution_count": 10,
      "outputs": [
        {
          "output_type": "stream",
          "name": "stdout",
          "text": [
            "Merge - Inner:\n",
            "   key  val3  val4  val1  val2\n",
            "0  k1     1     6   200    30\n",
            "1  k3     2     7     0   100\n",
            "2  k5     3     8   100    10\n"
          ]
        }
      ]
    },
    {
      "cell_type": "code",
      "metadata": {
        "id": "brB-bfoOgmP_",
        "colab": {
          "base_uri": "https://localhost:8080/"
        },
        "outputId": "67ad13ce-c718-4b0f-df11-1beba6f9449e"
      },
      "source": [
        "# Merge yang ekivalen dengan SQL outer join\n",
        "merge_df_outer = pd.merge(left=df2, right=df1, how='outer', left_on='key', right_on='key')\n",
        "print('Merge - Outer:\\n', merge_df_outer)"
      ],
      "execution_count": 11,
      "outputs": [
        {
          "output_type": "stream",
          "name": "stdout",
          "text": [
            "Merge - Outer:\n",
            "    key  val3  val4   val1   val2\n",
            "0   k1   1.0   6.0  200.0   30.0\n",
            "1   k3   2.0   7.0    0.0  100.0\n",
            "2   k5   3.0   8.0  100.0   10.0\n",
            "3   k7   4.0   8.0    NaN    NaN\n",
            "4  k10   5.0  10.0    NaN    NaN\n",
            "5   k2   NaN   NaN  500.0   50.0\n",
            "6   k4   NaN   NaN  500.0   20.0\n"
          ]
        }
      ]
    },
    {
      "cell_type": "markdown",
      "metadata": {
        "id": "541kW9sGhcFG"
      },
      "source": [
        "Bagaimana jika salah satu dataframe atau keseluruhan dataframe yang akan digabungkan tersebut memiliki multiindex?"
      ]
    },
    {
      "cell_type": "code",
      "metadata": {
        "id": "OL_6MGn7i5PZ",
        "colab": {
          "base_uri": "https://localhost:8080/"
        },
        "outputId": "3f9d811d-79bb-4d42-c555-7f579779aa77"
      },
      "source": [
        "import pandas as pd\n",
        "# Buat dataframe df1 dan df2\n",
        "df1 = pd.DataFrame({\n",
        "  'key':['k1','k2','k3','k4','k5'],\n",
        "  'val1':[200, 500, 0, 500, 100],\n",
        "  'val2':[30, 50, 100, 20, 10]\n",
        "})\n",
        "df1 = df1.set_index(['key','val1'])\n",
        "print('Dataframe 1:\\n', df1)\n",
        "df2 = pd.DataFrame({\n",
        "  'key':['k1','k3','k5','k7','k10'],\n",
        "  'val3':[1,2,3,4,5],\n",
        "  'val4':[6,7,8,8,10]\n",
        "})\n",
        "df2 = df2.set_index(['key','val3'])\n",
        "print('Dataframe 2:\\n', df2)"
      ],
      "execution_count": 12,
      "outputs": [
        {
          "output_type": "stream",
          "name": "stdout",
          "text": [
            "Dataframe 1:\n",
            "           val2\n",
            "key val1      \n",
            "k1  200     30\n",
            "k2  500     50\n",
            "k3  0      100\n",
            "k4  500     20\n",
            "k5  100     10\n",
            "Dataframe 2:\n",
            "           val4\n",
            "key val3      \n",
            "k1  1        6\n",
            "k3  2        7\n",
            "k5  3        8\n",
            "k7  4        8\n",
            "k10 5       10\n"
          ]
        }
      ]
    },
    {
      "cell_type": "code",
      "metadata": {
        "id": "gFd5c14CklUD",
        "colab": {
          "base_uri": "https://localhost:8080/"
        },
        "outputId": "3edbbe21-60ef-43dd-bd36-0a072ff3d1e7"
      },
      "source": [
        "# Merge dataframe yang memiliki multi index\n",
        "df_merge = pd.merge(df1.reset_index(), df2.reset_index())\n",
        "print('Merging dataframe:\\n', df_merge)"
      ],
      "execution_count": 13,
      "outputs": [
        {
          "output_type": "stream",
          "name": "stdout",
          "text": [
            "Merging dataframe:\n",
            "   key  val1  val2  val3  val4\n",
            "0  k1   200    30     1     6\n",
            "1  k3     0   100     2     7\n",
            "2  k5   100    10     3     8\n"
          ]
        }
      ]
    },
    {
      "cell_type": "markdown",
      "metadata": {
        "id": "_ku1FyUASN8v"
      },
      "source": [
        "## **Method .join()**"
      ]
    },
    {
      "cell_type": "markdown",
      "metadata": {
        "id": "83htXnFBSS91"
      },
      "source": [
        "Metthod `.join()` digunakan pada dataframe untuk menggabungkan kedua data dengan set index pada kedua tabel tersebut sebagai join key, tanpa index, hal ini tidak akan berhasil."
      ]
    },
    {
      "cell_type": "code",
      "metadata": {
        "id": "AIPFm5gZTG2R"
      },
      "source": [
        "import pandas as pd\n",
        "# Buat dataframe df1 dan df2\n",
        "df1 = pd.DataFrame({\n",
        "   'key':['k1','k2','k3','k4','k5'],\n",
        "   'val1':[200, 500, 0, 500, 100],\n",
        "   'val2':[30, 50, 100, 20, 10]\n",
        "})\n",
        "df2 = pd.DataFrame({\n",
        "   'key':['k1','k3','k5','k7','k10'],\n",
        "   'val3':[1,2,3,4,5],\n",
        "   'val4':[6,7,8,8,10]\n",
        "})\n"
      ],
      "execution_count": 14,
      "outputs": []
    },
    {
      "cell_type": "code",
      "metadata": {
        "id": "LKpWQTKbTp2F",
        "colab": {
          "base_uri": "https://localhost:8080/"
        },
        "outputId": "cb19cc8a-11f3-4f1b-944e-3a0c82cf6e10"
      },
      "source": [
        "# Penerapan join dengan menggunakan set_index dan keyword how inner\n",
        "join_df = df1.set_index('key').join(df2.set_index('key'), how='inner')\n",
        "print(join_df)"
      ],
      "execution_count": 15,
      "outputs": [
        {
          "output_type": "stream",
          "name": "stdout",
          "text": [
            "     val1  val2  val3  val4\n",
            "key                        \n",
            "k1    200    30     1     6\n",
            "k3      0   100     2     7\n",
            "k5    100    10     3     8\n"
          ]
        }
      ]
    },
    {
      "cell_type": "code",
      "metadata": {
        "id": "LxdvZdBDTl7I",
        "colab": {
          "base_uri": "https://localhost:8080/"
        },
        "outputId": "4227ae8d-2eab-480d-ce22-23051707500f"
      },
      "source": [
        "# Penerapan join dengan menggunakan set_index dan keyword how outer\n",
        "join_df = df1.set_index('key').join(df2.set_index('key'), how='outer')\n",
        "print(join_df)"
      ],
      "execution_count": 16,
      "outputs": [
        {
          "output_type": "stream",
          "name": "stdout",
          "text": [
            "      val1   val2  val3  val4\n",
            "key                          \n",
            "k1   200.0   30.0   1.0   6.0\n",
            "k10    NaN    NaN   5.0  10.0\n",
            "k2   500.0   50.0   NaN   NaN\n",
            "k3     0.0  100.0   2.0   7.0\n",
            "k4   500.0   20.0   NaN   NaN\n",
            "k5   100.0   10.0   3.0   8.0\n",
            "k7     NaN    NaN   4.0   8.0\n"
          ]
        }
      ]
    }
  ]
}