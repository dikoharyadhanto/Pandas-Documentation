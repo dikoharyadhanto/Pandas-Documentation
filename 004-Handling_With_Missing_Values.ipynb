{
  "nbformat": 4,
  "nbformat_minor": 0,
  "metadata": {
    "colab": {
      "name": "004-Handling_With_Missing_Values.ipynb",
      "provenance": [],
      "authorship_tag": "ABX9TyP18mJaGTSlkfS3smTbZOXW",
      "include_colab_link": true
    },
    "kernelspec": {
      "name": "python3",
      "display_name": "Python 3"
    },
    "language_info": {
      "name": "python"
    }
  },
  "cells": [
    {
      "cell_type": "markdown",
      "metadata": {
        "id": "view-in-github",
        "colab_type": "text"
      },
      "source": [
        "<a href=\"https://colab.research.google.com/github/dikoharyadhanto/Pandas-Documentation/blob/main/004-Handling_With_Missing_Values.ipynb\" target=\"_parent\"><img src=\"https://colab.research.google.com/assets/colab-badge.svg\" alt=\"Open In Colab\"/></a>"
      ]
    },
    {
      "cell_type": "markdown",
      "metadata": {
        "id": "UncnAo7hvQeI"
      },
      "source": [
        "[Link Untuk Mengetahui Gimana caranya mengatasi Missing Values](https://pandas.pydata.org/pandas-docs/stable/user_guide/missing_data.html)"
      ]
    },
    {
      "cell_type": "markdown",
      "metadata": {
        "id": "mgkTRgvCvwyN"
      },
      "source": [
        "# **Inspeksi Missing Value**"
      ]
    },
    {
      "cell_type": "markdown",
      "metadata": {
        "id": "ccacC7rGvyHz"
      },
      "source": [
        "Value yang hilang/tidak lengkap dari dataframe akan membuat analisis atau model prediksi yang dibuat menjadi tidak akurat dan mengakibatkan keputusan salah yang diambil. Terdapat beberapa cara untuk mengatasi data yang hilang/tidak lengkap tersebut."
      ]
    },
    {
      "cell_type": "markdown",
      "metadata": {
        "id": "G40m1u3rv3y3"
      },
      "source": [
        "Di pandas data yang hilang umumnya direpresentasikan dengan NaN."
      ]
    },
    {
      "cell_type": "markdown",
      "metadata": {
        "id": "kkRLHpmZv744"
      },
      "source": [
        "Langkah pertama, harus tahu kolom mana yang terdapat data hilang dan berapa banyak dengan cara:\n",
        "\n",
        "Cara 1: menerapkan method `.info()` pada dataframe "
      ]
    },
    {
      "cell_type": "code",
      "metadata": {
        "id": "MOJAFQZHvMKo",
        "colab": {
          "base_uri": "https://localhost:8080/"
        },
        "outputId": "18070b1f-9dd8-49b5-f22d-427aaf5cfdb9"
      },
      "source": [
        "import pandas as pd\n",
        "# Baca file \"public data covid19 jhu csse eu.csv\"\n",
        "df = pd.read_csv(\"https://storage.googleapis.com/dqlab-dataset/CHAPTER%204%20-%20missing%20value%20-%20public%20data%20covid19%20.csv\")\n",
        "# Cetak info dari df\n",
        "print(df.info())"
      ],
      "execution_count": 1,
      "outputs": [
        {
          "output_type": "stream",
          "name": "stdout",
          "text": [
            "<class 'pandas.core.frame.DataFrame'>\n",
            "RangeIndex: 1000 entries, 0 to 999\n",
            "Data columns (total 13 columns):\n",
            " #   Column          Non-Null Count  Dtype  \n",
            "---  ------          --------------  -----  \n",
            " 0   province_state  960 non-null    object \n",
            " 1   country_region  1000 non-null   object \n",
            " 2   date            1000 non-null   object \n",
            " 3   latitude        874 non-null    float64\n",
            " 4   longitude       874 non-null    float64\n",
            " 5   location_geom   874 non-null    object \n",
            " 6   confirmed       1000 non-null   int64  \n",
            " 7   deaths          999 non-null    float64\n",
            " 8   recovered       999 non-null    float64\n",
            " 9   active          949 non-null    float64\n",
            " 10  fips            949 non-null    float64\n",
            " 11  admin2          842 non-null    object \n",
            " 12  combined_key    0 non-null      float64\n",
            "dtypes: float64(7), int64(1), object(5)\n",
            "memory usage: 101.7+ KB\n",
            "None\n"
          ]
        }
      ]
    },
    {
      "cell_type": "markdown",
      "metadata": {
        "id": "TbhVB8N_wCLd"
      },
      "source": [
        "Cara 2: mengetahui berapa banyak nilai hilang dari tiap kolom di dataset tersebut dengan menerapkan chaining method pada dataframe yaitu `.isna().sum()`. Method `.isna()` digunakan untuk mengecek berapa data yang bernilai NaN dan .sum() menjumlahkannya secara default untuk masing-masing kolom dataframe."
      ]
    },
    {
      "cell_type": "code",
      "metadata": {
        "id": "mxZPf6dowot6",
        "colab": {
          "base_uri": "https://localhost:8080/"
        },
        "outputId": "69f5cdc2-4787-46b0-e70d-1d6df979abd5"
      },
      "source": [
        "# Cetak jumlah missing value di setiap kolom\n",
        "mv = df.isna().sum()\n",
        "print(\"\\nJumlah missing value per kolom:\\n\", mv)"
      ],
      "execution_count": 2,
      "outputs": [
        {
          "output_type": "stream",
          "name": "stdout",
          "text": [
            "\n",
            "Jumlah missing value per kolom:\n",
            " province_state      40\n",
            "country_region       0\n",
            "date                 0\n",
            "latitude           126\n",
            "longitude          126\n",
            "location_geom      126\n",
            "confirmed            0\n",
            "deaths               1\n",
            "recovered            1\n",
            "active              51\n",
            "fips                51\n",
            "admin2             158\n",
            "combined_key      1000\n",
            "dtype: int64\n"
          ]
        }
      ]
    },
    {
      "cell_type": "markdown",
      "metadata": {
        "id": "kjBv7h0SxkAB"
      },
      "source": [
        "Hanya kolom combine_key yang keseluruhan barisnya adalah missing value (1000 buah), sementara kolom country_region, date, dan confirmed tidak memiliki missing value. Untuk kolom lainnya terdapat beragam jumlah missing value. Apa yang dapat dilakukan?\n",
        "\n",
        "Untuk memahami mana kolom yang akan ditreatment dengan tiga perlakukan di atas lihat nature dari data terlebih dahulu. Contohnya pada kolom death dan recovered jika ada yang missing value maka kemungkinan terbesarnya adalah tidak ada meninggal atau sembuh pada hari tersebut. \n",
        "\n",
        "Untuk kolom yang seluruhnya missing yaitu combined_key dapat dibuang saja satu kolom itu karena tidak ada data yang dapat diketahui dari kolom tersebut.\n",
        "\n",
        "Sementara, kolom yang lainnya bagaimana? Misal ambil kolom province_stat, missing valuenya dapat terjadi bahwa tidak dilaporkan itu berasal dari daerah mana di negara itu. Dapat mengisi misal dengan string 'unknown' karena tahu kolom tersebut bertipe data string."
      ]
    },
    {
      "cell_type": "markdown",
      "metadata": {
        "id": "cwE1FVjnxHSV"
      },
      "source": [
        "# **Treatment untuk Missing Value**"
      ]
    },
    {
      "cell_type": "markdown",
      "metadata": {
        "id": "UyPldV4LxJE0"
      },
      "source": [
        "Terdapat beberapa cara untuk mengatasi missing value, antara lain:\n",
        "\n",
        "1. dibiarkan saja,\n",
        "2.hapus value itu, atau\n",
        "3. isi value tersebut dengan value yang lain (biasanya interpolasi, mean, median, etc)"
      ]
    },
    {
      "cell_type": "markdown",
      "metadata": {
        "id": "DN6WJ36AxR9e"
      },
      "source": [
        "Treatment **pertama** (membiarkannya saja) seperti pada kolom confirmed, death, dan recovered. Akan tetapi jika tidak ada yang terkonfirmasi, meninggal dan sembuh sebenarnya dapat menukar value ini dengan angka nol. Meskipun ini lebih make sense dalam representasi datanya, tetapi untuk sub bab ini ketiga kolom tersebut diasumsikan dibiarkan memiliki nilai missing value."
      ]
    },
    {
      "cell_type": "markdown",
      "metadata": {
        "id": "zXSxzw8XyEB-"
      },
      "source": [
        "Treatment **kedua** yaitu dengan menghapus kolom, yang mana ini digunakan jika seluruh kolom dari dataset yang dipunyai semua barisnya adalah missing value. Untuk itu dapat menerapkan method `.dropna() `pada dataframe, bagaimana caranya?"
      ]
    },
    {
      "cell_type": "code",
      "metadata": {
        "id": "AdyC5fuQyQT9"
      },
      "source": [
        "nama_dataframe.dropna(axis=1, how=\"all\")"
      ],
      "execution_count": null,
      "outputs": []
    },
    {
      "cell_type": "markdown",
      "metadata": {
        "id": "xfDCSNHxyJQ-"
      },
      "source": [
        "Pada method `.dropna()` ada dua keyword argumen yang harus diisikan yaitu axis dan how. Keyword axis digunakan untuk menentukan arah dataframe yang akan dibuang angka 1 untuk menyatakan kolom (column-based) atau dapat ditulis dalam string \"column\". Jika digunakan angka 0 berarti itu dalam searah index (row-based) atau dapat ditulis dalam string \"index\"."
      ]
    },
    {
      "cell_type": "markdown",
      "metadata": {
        "id": "5HaGr85-yaia"
      },
      "source": [
        "Sementara, keyword how digunakan untuk bagaimana cara membuangnya. Opsi yang dapat diterimanya (dalam string) adalah\n",
        "\n",
        "- \"all\" artinya jika seluruh data di satu/beberapa kolom atau di satu/beberapa baris adalah missing value.\n",
        "- \"any\" artinya jika memiliki 1 saja data yang hilang maka buanglah baris/kolom tersebut."
      ]
    },
    {
      "cell_type": "code",
      "metadata": {
        "id": "CFIqfIpQyrc-",
        "colab": {
          "base_uri": "https://localhost:8080/"
        },
        "outputId": "4799583e-7be3-43ca-829c-c82302b4d68b"
      },
      "source": [
        "import pandas as pd\n",
        "# Baca file \"public data covid19 jhu csse eu.csv\"\n",
        "df = pd.read_csv(\"https://storage.googleapis.com/dqlab-dataset/CHAPTER%204%20-%20missing%20value%20-%20public%20data%20covid19%20.csv\")\n",
        "# Cetak ukuran awal dataframe\n",
        "print(\"Ukuran awal df: %d baris, %d kolom.\" % df.shape)\n",
        "# Drop kolom yang seluruhnya missing value dan cetak ukurannya\n",
        "df = df.dropna(axis=1, how=\"all\")\n",
        "print(\"Ukuran df setelah buang kolom dengan seluruh data missing: %d baris, %d kolom.\" % df.shape)\n",
        "# Drop baris jika ada satu saja data yang missing dan cetak ukurannya\n",
        "df = df.dropna(axis=0, how=\"any\")\n",
        "print(\"Ukuran df setelah dibuang baris yang memiliki sekurangnya 1 missing value: %d baris, %d kolom.\" % df.shape)"
      ],
      "execution_count": 4,
      "outputs": [
        {
          "output_type": "stream",
          "name": "stdout",
          "text": [
            "Ukuran awal df: 1000 baris, 13 kolom.\n",
            "Ukuran df setelah buang kolom dengan seluruh data missing: 1000 baris, 12 kolom.\n",
            "Ukuran df setelah dibuang baris yang memiliki sekurangnya 1 missing value: 746 baris, 12 kolom.\n"
          ]
        }
      ]
    },
    {
      "cell_type": "markdown",
      "metadata": {
        "id": "Jennq-DCbQ7B"
      },
      "source": [
        "Sekarang, akan melakukan treatment ketiga untuk menghandle missing value pada dataframe. Treatment ini dilakukan dengan cara mengisi missing value dengan nilai lain, yang dapat berupa :\n",
        "\n",
        "- nilai statistik seperti mean atau median\n",
        "- interpolasi data\n",
        "- text tertentu"
      ]
    },
    {
      "cell_type": "markdown",
      "metadata": {
        "id": "-3vjAx0GbUi4"
      },
      "source": [
        "Akan mulai pada kolom yang missing yang tipe datanya adalah berupa object. Kolom tersebut adalah province_state, karena tidak tahu secara persis province_state mana yang dimaksud, bisa menempatkan string \"unknown\" sebagai substitusi missing value. Meskipun keduanya berarti sama-sama tidak tahu tetapi berbeda dalam representasi datanya. \n",
        "Untuk melakukan hal demikian dapat menggunakan method `.fillna()` pada kolom dataframe yang dimaksud."
      ]
    },
    {
      "cell_type": "code",
      "metadata": {
        "id": "JMFKAjNHcjMI",
        "colab": {
          "base_uri": "https://localhost:8080/"
        },
        "outputId": "277ff6c8-7ded-430e-8fb1-1b5c50bfa19a"
      },
      "source": [
        "import pandas as pd\n",
        "# Baca file \"public data covid19 jhu csse eu.csv\"\n",
        "df = pd.read_csv(\"https://storage.googleapis.com/dqlab-dataset/CHAPTER%204%20-%20missing%20value%20-%20public%20data%20covid19%20.csv\")\n",
        "# Cetak unique value pada kolom province_state\n",
        "print(\"Unique value awal:\\n\", df[\"province_state\"].unique())\n",
        "# Ganti missing value dengan string \"unknown_province_state\"\n",
        "df[\"province_state\"] = df[\"province_state\"].fillna(\"unknown_province_state\")\n",
        "# Cetak kembali unique value pada kolom province_state\n",
        "print(\"Unique value setelah fillna:\\n\", df[\"province_state\"].unique())"
      ],
      "execution_count": 5,
      "outputs": [
        {
          "output_type": "stream",
          "name": "stdout",
          "text": [
            "Unique value awal:\n",
            " [nan 'US' 'Guam' 'Iowa']\n",
            "Unique value setelah fillna:\n",
            " ['unknown_province_state' 'US' 'Guam' 'Iowa']\n"
          ]
        }
      ]
    },
    {
      "cell_type": "markdown",
      "metadata": {
        "id": "PlJRLIaDcpDf"
      },
      "source": [
        "Untuk data-data bertipe numerik, mengganti missing value dengan nilai statistik kolom bersangkutan, baik median atau mean (nilai rata-rata). Misalnya akan menggunakan kolom active. Dengan mengabaikan terlebih dahulu sebaran berdasarkan negara (univariate), jika mengisi dengan nilai rata-rata maka harus melihat terlebih dahulu data apakah memiliki ouliers atau tidak. Jika ada outliers dari data maka menggunakan nilai tengah (median) data adalah cara yang lebih safe."
      ]
    },
    {
      "cell_type": "markdown",
      "metadata": {
        "id": "KvLzgzW3c3fY"
      },
      "source": [
        "Untuk itu diputuskan dengan mengecek nilai median dan nilai mean kolom active juga nilai min dan max-nya. Jika data pada kolom active terdistribusi normal maka nilai mean dan median akan hampir sama."
      ]
    },
    {
      "cell_type": "markdown",
      "metadata": {
        "id": "hoHJd3f2dCy-"
      },
      "source": [
        "![image.png](data:image/png;base64,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)"
      ]
    },
    {
      "cell_type": "markdown",
      "metadata": {
        "id": "32sPfdVQdF-3"
      },
      "source": [
        "Terlihat data memiliki distribusi yang skewness, karena nilai mean dan median yang cukup jauh serta range data yang cukup lebar. Di sini pada kolom active data memiliki outliers. Jadi akan mengisi missing value dengan median."
      ]
    },
    {
      "cell_type": "code",
      "metadata": {
        "id": "i3RyjoL4jXQb",
        "colab": {
          "base_uri": "https://localhost:8080/"
        },
        "outputId": "850fb101-d39f-4376-b369-912078eb8703"
      },
      "source": [
        "import pandas as pd\n",
        "# Baca file \"https://storage.googleapis.com/dqlab-dataset/CHAPTER%204%20-%20missing%20value%20-%20public%20data%20covid19%20.csv\"\n",
        "df = pd.read_csv(\"https://storage.googleapis.com/dqlab-dataset/CHAPTER%204%20-%20missing%20value%20-%20public%20data%20covid19%20.csv\")\n",
        "# Cetak nilai mean dan median awal \n",
        "print(\"Awal: mean = %f, median = %f.\" % (df[\"active\"].mean(), df[\"active\"].median()))\n",
        "# Isi missing value kolom active dengan median\n",
        "df_median = df[\"active\"].fillna(df[\"active\"].median())\n",
        "# Cetak nilai mean dan median awal setelah diisi dengan median\n",
        "print(\"Fillna median: mean = %f, median = %f.\" % (df_median.mean(), df_median.median()))\n",
        "# Isi missing value kolom active dengan mean\n",
        "df_mean = df[\"active\"].fillna(df[\"active\"].mean())\n",
        "# Cetak nilai mean dan median awal setelah diisi dengan mean\n",
        "print(\"Fillna mean: mean = %f, median = %f.\" % (df_mean.mean(), df_mean.median()))"
      ],
      "execution_count": 6,
      "outputs": [
        {
          "output_type": "stream",
          "name": "stdout",
          "text": [
            "Awal: mean = 192.571128, median = 41.000000.\n",
            "Fillna median: mean = 184.841000, median = 41.000000.\n",
            "Fillna mean: mean = 192.571128, median = 49.000000.\n"
          ]
        }
      ]
    },
    {
      "cell_type": "markdown",
      "metadata": {
        "id": "gbgGZQ1SdI9O"
      },
      "source": [
        "Di bagian ini akan menggunakan teknik interpolasi dalam mengisi nilai missing value pada suatu dataset.\n",
        "\n",
        "Data yang menggunakan interpolasi untuk mengisi data yang hilang adalah time series data, yang secara default akan diisi dengan interpolasi linear."
      ]
    },
    {
      "cell_type": "code",
      "metadata": {
        "id": "tVM8ijfPjjD4",
        "colab": {
          "base_uri": "https://localhost:8080/"
        },
        "outputId": "b5ec3a90-b465-4f75-9577-deb1d1c5e7bc"
      },
      "source": [
        "import numpy as np\n",
        "import pandas as pd\n",
        "# Data\n",
        "ts = pd.Series({\n",
        "   \"2020-01-01\":9,\n",
        "   \"2020-01-02\":np.nan,\n",
        "   \"2020-01-05\":np.nan,\n",
        "   \"2020-01-07\":24,\n",
        "   \"2020-01-10\":np.nan,\n",
        "   \"2020-01-12\":np.nan,\n",
        "   \"2020-01-15\":33,\n",
        "   \"2020-01-17\":np.nan,\n",
        "   \"2020-01-16\":40,\n",
        "   \"2020-01-20\":45,\n",
        "   \"2020-01-22\":52,\n",
        "   \"2020-01-25\":75,\n",
        "   \"2020-01-28\":np.nan,\n",
        "   \"2020-01-30\":np.nan\n",
        "})\n",
        "# Isi missing value menggunakan interpolasi linier\n",
        "ts = ts.interpolate()\n",
        "# Cetak time series setelah interpolasi linier\n",
        "print(\"Setelah diisi missing valuenya:\\n\",ts)"
      ],
      "execution_count": 7,
      "outputs": [
        {
          "output_type": "stream",
          "name": "stdout",
          "text": [
            "Setelah diisi missing valuenya:\n",
            " 2020-01-01     9.0\n",
            "2020-01-02    14.0\n",
            "2020-01-05    19.0\n",
            "2020-01-07    24.0\n",
            "2020-01-10    27.0\n",
            "2020-01-12    30.0\n",
            "2020-01-15    33.0\n",
            "2020-01-17    36.5\n",
            "2020-01-16    40.0\n",
            "2020-01-20    45.0\n",
            "2020-01-22    52.0\n",
            "2020-01-25    75.0\n",
            "2020-01-28    75.0\n",
            "2020-01-30    75.0\n",
            "dtype: float64\n"
          ]
        }
      ]
    }
  ]
}