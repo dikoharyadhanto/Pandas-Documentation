{
  "nbformat": 4,
  "nbformat_minor": 0,
  "metadata": {
    "colab": {
      "name": "006-Pivot_Melt_Stack_Unstack.ipynb",
      "provenance": [],
      "authorship_tag": "ABX9TyObsD+RRruCpKvoY94VRyRB",
      "include_colab_link": true
    },
    "kernelspec": {
      "name": "python3",
      "display_name": "Python 3"
    },
    "language_info": {
      "name": "python"
    }
  },
  "cells": [
    {
      "cell_type": "markdown",
      "metadata": {
        "id": "view-in-github",
        "colab_type": "text"
      },
      "source": [
        "<a href=\"https://colab.research.google.com/github/dikoharyadhanto/Pandas-Documentation/blob/main/006-Pivot_Melt_Stack_Unstack.ipynb\" target=\"_parent\"><img src=\"https://colab.research.google.com/assets/colab-badge.svg\" alt=\"Open In Colab\"/></a>"
      ]
    },
    {
      "cell_type": "markdown",
      "metadata": {
        "id": "puy7bpehVxjL"
      },
      "source": [
        "Referensi: https://pandas.pydata.org/pandas-docs/stable/user_guide/reshaping.html"
      ]
    },
    {
      "cell_type": "markdown",
      "metadata": {
        "id": "7Bmwgj_oV1sJ"
      },
      "source": [
        "# **Dataset**"
      ]
    },
    {
      "cell_type": "code",
      "metadata": {
        "id": "j4bjLKxKWJMH",
        "colab": {
          "base_uri": "https://localhost:8080/"
        },
        "outputId": "b7b13536-65d8-474a-e694-af621dee2dc9"
      },
      "source": [
        "import pandas as pd\n",
        "# Dataframe\n",
        "data = pd.DataFrame({\n",
        "  'kelas': 6*['A'] + 6*['B'],\n",
        "  'murid': 2*['A1'] + 2*['A2'] + 2*['A3'] + 2*['B1'] + 2*['B2'] + 2*['B3'],\n",
        "  'pelajaran': 6*['math','english'],\n",
        "  'nilai': [90,60,70,85,50,60,100,40,95,80,60,45]\n",
        "}, columns=['kelas', 'murid','pelajaran','nilai'])\n",
        "# Unique value pada setiap kolom data\n",
        "for column in data.columns:\n",
        "  print('Unique value %s: %s' % (column, data[column].unique()))"
      ],
      "execution_count": 1,
      "outputs": [
        {
          "output_type": "stream",
          "name": "stdout",
          "text": [
            "Unique value kelas: ['A' 'B']\n",
            "Unique value murid: ['A1' 'A2' 'A3' 'B1' 'B2' 'B3']\n",
            "Unique value pelajaran: ['math' 'english']\n",
            "Unique value nilai: [ 90  60  70  85  50 100  40  95  80  45]\n"
          ]
        }
      ]
    },
    {
      "cell_type": "markdown",
      "metadata": {
        "id": "6b2iXb8GWAWs"
      },
      "source": [
        "# **Pivot**"
      ]
    },
    {
      "cell_type": "markdown",
      "metadata": {
        "id": "XMOF7J0rY1cC"
      },
      "source": [
        "Untuk menerapkan menerapkan method `.pivot()` pada dataframe dapat dilakukan pada dataframe yang miliki index tunggal ataupun indexnya adalah multiindex. "
      ]
    },
    {
      "cell_type": "markdown",
      "metadata": {
        "id": "-0mtI0YPZA6T"
      },
      "source": [
        "Untuk dataset yang masih sama, yaitu data."
      ]
    },
    {
      "cell_type": "code",
      "metadata": {
        "id": "JxOu-FYaZIbf",
        "colab": {
          "base_uri": "https://localhost:8080/",
          "height": 204
        },
        "outputId": "efa3f804-5cf4-4e37-ee7d-c15f14fa972d"
      },
      "source": [
        "import pandas as pd\n",
        "# Dataframe\n",
        "data = pd.DataFrame({\n",
        "  'kelas': 6*['A'] + 6*['B'],\n",
        "  'murid': 2*['A1'] + 2*['A2'] + 2*['A3'] + 2*['B1'] + 2*['B2'] + 2*['B3'],\n",
        "  'pelajaran': 6*['math','english'],\n",
        "  'nilai': [90,60,70,85,50,60,100,40,95,80,60,45]\n",
        "}, columns=['kelas','murid','pelajaran','nilai'])\n",
        "\n",
        "data.head()"
      ],
      "execution_count": 2,
      "outputs": [
        {
          "output_type": "execute_result",
          "data": {
            "text/html": [
              "<div>\n",
              "<style scoped>\n",
              "    .dataframe tbody tr th:only-of-type {\n",
              "        vertical-align: middle;\n",
              "    }\n",
              "\n",
              "    .dataframe tbody tr th {\n",
              "        vertical-align: top;\n",
              "    }\n",
              "\n",
              "    .dataframe thead th {\n",
              "        text-align: right;\n",
              "    }\n",
              "</style>\n",
              "<table border=\"1\" class=\"dataframe\">\n",
              "  <thead>\n",
              "    <tr style=\"text-align: right;\">\n",
              "      <th></th>\n",
              "      <th>kelas</th>\n",
              "      <th>murid</th>\n",
              "      <th>pelajaran</th>\n",
              "      <th>nilai</th>\n",
              "    </tr>\n",
              "  </thead>\n",
              "  <tbody>\n",
              "    <tr>\n",
              "      <th>0</th>\n",
              "      <td>A</td>\n",
              "      <td>A1</td>\n",
              "      <td>math</td>\n",
              "      <td>90</td>\n",
              "    </tr>\n",
              "    <tr>\n",
              "      <th>1</th>\n",
              "      <td>A</td>\n",
              "      <td>A1</td>\n",
              "      <td>english</td>\n",
              "      <td>60</td>\n",
              "    </tr>\n",
              "    <tr>\n",
              "      <th>2</th>\n",
              "      <td>A</td>\n",
              "      <td>A2</td>\n",
              "      <td>math</td>\n",
              "      <td>70</td>\n",
              "    </tr>\n",
              "    <tr>\n",
              "      <th>3</th>\n",
              "      <td>A</td>\n",
              "      <td>A2</td>\n",
              "      <td>english</td>\n",
              "      <td>85</td>\n",
              "    </tr>\n",
              "    <tr>\n",
              "      <th>4</th>\n",
              "      <td>A</td>\n",
              "      <td>A3</td>\n",
              "      <td>math</td>\n",
              "      <td>50</td>\n",
              "    </tr>\n",
              "  </tbody>\n",
              "</table>\n",
              "</div>"
            ],
            "text/plain": [
              "  kelas murid pelajaran  nilai\n",
              "0     A    A1      math     90\n",
              "1     A    A1   english     60\n",
              "2     A    A2      math     70\n",
              "3     A    A2   english     85\n",
              "4     A    A3      math     50"
            ]
          },
          "metadata": {},
          "execution_count": 2
        }
      ]
    },
    {
      "cell_type": "code",
      "metadata": {
        "id": "gT1zLix7ZUR7",
        "colab": {
          "base_uri": "https://localhost:8080/"
        },
        "outputId": "b7d713e7-40f4-401a-c152-c69f20fe9dc7"
      },
      "source": [
        "# Pivoting with single column measurement\n",
        "pivot1 = data.pivot(index='murid',columns='pelajaran',values='nilai')\n",
        "print('Pivoting with single column measurement:\\n', pivot1)"
      ],
      "execution_count": 3,
      "outputs": [
        {
          "output_type": "stream",
          "name": "stdout",
          "text": [
            "Pivoting with single column measurement:\n",
            " pelajaran  english  math\n",
            "murid                   \n",
            "A1              60    90\n",
            "A2              85    70\n",
            "A3              60    50\n",
            "B1              40   100\n",
            "B2              80    95\n",
            "B3              45    60\n"
          ]
        }
      ]
    },
    {
      "cell_type": "code",
      "metadata": {
        "id": "YPERSGFeaAj4",
        "colab": {
          "base_uri": "https://localhost:8080/"
        },
        "outputId": "2d0b56f1-0d1c-40f3-80ec-822ff24fbf0c"
      },
      "source": [
        "# Pivoting with multiple column measurement\n",
        "pivot2 = data.pivot(index='murid',columns='pelajaran')\n",
        "print('Pivoting with multiple column measurement:\\n', pivot2)"
      ],
      "execution_count": 4,
      "outputs": [
        {
          "output_type": "stream",
          "name": "stdout",
          "text": [
            "Pivoting with multiple column measurement:\n",
            "             kelas        nilai     \n",
            "pelajaran english math english math\n",
            "murid                              \n",
            "A1              A    A      60   90\n",
            "A2              A    A      85   70\n",
            "A3              A    A      60   50\n",
            "B1              B    B      40  100\n",
            "B2              B    B      80   95\n",
            "B3              B    B      45   60\n"
          ]
        }
      ]
    },
    {
      "cell_type": "markdown",
      "metadata": {
        "id": "4OK3juBSY86M"
      },
      "source": [
        "# **Pivot_table**"
      ]
    },
    {
      "cell_type": "markdown",
      "metadata": {
        "id": "0phAA28c8zUe"
      },
      "source": [
        "Apa yang terjadi kalau output pivot tabel memiliki duplicate index? Seperti yang diketahui, index di dataframe adalah unique identifier untuk setiap row, jadi tidak boleh ada duplikat dan setiap membuat pivot tabel, harus specify index as kolom yang mana dan columns nya memakai kolom yang mana."
      ]
    },
    {
      "cell_type": "code",
      "metadata": {
        "id": "ncb3yAq3Voyl"
      },
      "source": [
        "import pandas as pd\n",
        "# Dataframe\n",
        "data = pd.DataFrame({\n",
        "  'kelas': 6*['A'] + 6*['B'],\n",
        "  'murid': 2*['A1'] + 2*['A2'] + 2*['A3'] + 2*['B1'] + 2*['B2'] + 2*['B3'],\n",
        "  'pelajaran': 6*['math','english'],\n",
        "  'nilai': [90,60,70,85,50,60,100,40,95,80,60,45]\n",
        "}, columns=['kelas','murid','pelajaran','nilai'])"
      ],
      "execution_count": 5,
      "outputs": []
    },
    {
      "cell_type": "code",
      "metadata": {
        "id": "KssIW81I-Xbb",
        "colab": {
          "base_uri": "https://localhost:8080/"
        },
        "outputId": "4ab220f1-747b-4445-f843-b8f4f8da5ad6"
      },
      "source": [
        "# Creating pivot and assign pivot_tab dengan menggunakan keyword aggfunc=sum\n",
        "pivot_tab_sum = data.pivot_table(index='kelas',columns='pelajaran',values='nilai',aggfunc=sum)\n",
        "print('Creating pivot table -- aggfunc sum:\\n', pivot_tab_sum)"
      ],
      "execution_count": 6,
      "outputs": [
        {
          "output_type": "stream",
          "name": "stdout",
          "text": [
            "Creating pivot table -- aggfunc sum:\n",
            " pelajaran  english  math\n",
            "kelas                   \n",
            "A              205   210\n",
            "B              165   255\n"
          ]
        }
      ]
    },
    {
      "cell_type": "code",
      "metadata": {
        "id": "YFPQuDvg8yGe",
        "colab": {
          "base_uri": "https://localhost:8080/"
        },
        "outputId": "bcb82122-7d15-41bc-c022-f1a7d8af586c"
      },
      "source": [
        "# Creating pivot and assign pivot_tab dengan menggunakan keyword aggfunc='mean'\n",
        "pivot_tab_mean = data.pivot_table(index='kelas',columns='pelajaran',values='nilai',aggfunc='mean')\n",
        "print('Creating pivot table -- aggfunc mean:\\n', pivot_tab_mean)"
      ],
      "execution_count": 7,
      "outputs": [
        {
          "output_type": "stream",
          "name": "stdout",
          "text": [
            "Creating pivot table -- aggfunc mean:\n",
            " pelajaran    english  math\n",
            "kelas                     \n",
            "A          68.333333  70.0\n",
            "B          55.000000  85.0\n"
          ]
        }
      ]
    },
    {
      "cell_type": "code",
      "metadata": {
        "id": "T3CBdsAk-VZc",
        "colab": {
          "base_uri": "https://localhost:8080/"
        },
        "outputId": "d1f4852f-c8e7-472e-f44a-8d3056974c06"
      },
      "source": [
        "# Creating pivot and assign pivot_tab dengan menggunakan keyword aggfunc='median'\n",
        "pivot_tab_median = data.pivot_table(index='kelas',columns='pelajaran',values='nilai',aggfunc='median')\n",
        "print('Creating pivot table -- aggfunc median:\\n', pivot_tab_median)"
      ],
      "execution_count": 8,
      "outputs": [
        {
          "output_type": "stream",
          "name": "stdout",
          "text": [
            "Creating pivot table -- aggfunc median:\n",
            " pelajaran  english  math\n",
            "kelas                   \n",
            "A               60    70\n",
            "B               45    95\n"
          ]
        }
      ]
    },
    {
      "cell_type": "markdown",
      "metadata": {
        "id": "5wCZktlSBol6"
      },
      "source": [
        "# **Melt**"
      ]
    },
    {
      "cell_type": "markdown",
      "metadata": {
        "id": "qOCODd6rBtjM"
      },
      "source": [
        "Teknik melt melalui `pd.melt()` digunakan untuk mengembalikan kondisi data yang sudah dilakukan pivot menjadi sebelum pivot."
      ]
    },
    {
      "cell_type": "code",
      "metadata": {
        "id": "w00bW7AwBlYT",
        "colab": {
          "base_uri": "https://localhost:8080/"
        },
        "outputId": "db7d0265-acef-41eb-f615-cfed01fbab78"
      },
      "source": [
        "import pandas as pd\n",
        "# Dataframe\n",
        "data = pd.DataFrame({\n",
        "  'kelas': 6*['A'] + 6*['B'],\n",
        "  'murid': 2*['A1'] + 2*['A2'] + 2*['A3'] + 2*['B1'] + 2*['B2'] + 2*['B3'],\n",
        "  'pelajaran': 6*['math','english'],\n",
        "  'nilai': [90,60,70,85,50,60,100,40,95,80,60,45]\n",
        "}, columns=['kelas','murid','pelajaran','nilai'])\n",
        "# Pivoting dataframe\n",
        "data_pivot = data.pivot_table(index='kelas',columns='pelajaran',values='nilai',aggfunc='mean').reset_index()\n",
        "print('Pivoting dataframe:\\n', data_pivot)"
      ],
      "execution_count": 9,
      "outputs": [
        {
          "output_type": "stream",
          "name": "stdout",
          "text": [
            "Pivoting dataframe:\n",
            " pelajaran kelas    english  math\n",
            "0             A  68.333333  70.0\n",
            "1             B  55.000000  85.0\n"
          ]
        }
      ]
    },
    {
      "cell_type": "code",
      "metadata": {
        "id": "7fNyMoBfB5Sw",
        "colab": {
          "base_uri": "https://localhost:8080/"
        },
        "outputId": "24ec2e66-f656-4912-fef3-7c333a6068a0"
      },
      "source": [
        "# [1] Melting dataframe data_pivot\n",
        "data_melt_1 = pd.melt(data_pivot)\n",
        "print('Melting dataframe:\\n', data_melt_1)"
      ],
      "execution_count": 10,
      "outputs": [
        {
          "output_type": "stream",
          "name": "stdout",
          "text": [
            "Melting dataframe:\n",
            "   pelajaran    value\n",
            "0     kelas        A\n",
            "1     kelas        B\n",
            "2   english  68.3333\n",
            "3   english       55\n",
            "4      math       70\n",
            "5      math       85\n"
          ]
        }
      ]
    },
    {
      "cell_type": "code",
      "metadata": {
        "id": "BD_lv2apB8BY",
        "colab": {
          "base_uri": "https://localhost:8080/"
        },
        "outputId": "68416ec1-14ed-4cca-94d9-02197278116d"
      },
      "source": [
        "# [2] Melting dataframe data_pivot dengan id_vars\n",
        "data_melt_2 = pd.melt(data_pivot, id_vars='kelas')\n",
        "print('Melting dataframe dengan idvars:\\n', data_melt_2)"
      ],
      "execution_count": 11,
      "outputs": [
        {
          "output_type": "stream",
          "name": "stdout",
          "text": [
            "Melting dataframe dengan idvars:\n",
            "   kelas pelajaran      value\n",
            "0     A   english  68.333333\n",
            "1     B   english  55.000000\n",
            "2     A      math  70.000000\n",
            "3     B      math  85.000000\n"
          ]
        }
      ]
    },
    {
      "cell_type": "markdown",
      "metadata": {
        "id": "gaejL4HkCNfH"
      },
      "source": [
        "Lanjutkan dengan melakukan teknik melting pada dataframe output di atas untuk keyword argumen lainnya, yaitu\n",
        "\n",
        "[3] Dengan menspesifikasikan keyword argument `value_vars` yang digunakan untuk menampilkan variasi value apa saja yang perlu dimunculkan di kolom variable. "
      ]
    },
    {
      "cell_type": "code",
      "metadata": {
        "id": "26FcJwPjEpcf",
        "colab": {
          "base_uri": "https://localhost:8080/"
        },
        "outputId": "ff8314f7-6a9f-4218-94b9-4622570fa803"
      },
      "source": [
        "# [3.a] Melting dataframe data_pivot dengan value_vars\n",
        "data_melt_3a = pd.melt(data_pivot, value_vars=['math'])\n",
        "print('Melting dataframe dengan value_vars:\\n', data_melt_3a)\n",
        "# [3.b] Melting dataframe data_pivot dengan id_vars dan value_vars\n",
        "data_melt_3b = pd.melt(data_pivot, id_vars='kelas', value_vars=['math'])\n",
        "print('Melting dataframe dengan id_vars dan value_vars:\\n', data_melt_3b)"
      ],
      "execution_count": 12,
      "outputs": [
        {
          "output_type": "stream",
          "name": "stdout",
          "text": [
            "Melting dataframe dengan value_vars:\n",
            "   pelajaran  value\n",
            "0      math   70.0\n",
            "1      math   85.0\n",
            "Melting dataframe dengan id_vars dan value_vars:\n",
            "   kelas pelajaran  value\n",
            "0     A      math   70.0\n",
            "1     B      math   85.0\n"
          ]
        }
      ]
    },
    {
      "cell_type": "markdown",
      "metadata": {
        "id": "jgByhM7wE0Qp"
      },
      "source": [
        "[4] Dengan spesifikasikan keyword argument `var_name` dan `value_name` yang digunakan untuk menampilkan nama kolom untuk variable dan value"
      ]
    },
    {
      "cell_type": "code",
      "metadata": {
        "id": "GBywe2rbE1fY",
        "colab": {
          "base_uri": "https://localhost:8080/"
        },
        "outputId": "38bc0f7c-2777-4af7-80fb-e72ad2fe5b12"
      },
      "source": [
        "# [4] Melting dataframe data_pivot dengan id_vars, value_vars, var_name. dan value_name\n",
        "data_melt_4 = pd.melt(data_pivot, id_vars='kelas', value_vars=['english','math'],var_name='pelajaran',value_name='nilai')\n",
        "print('Melting dataframe dengan id_vars, value_vars, var_name. dan value_name:\\n', data_melt_4)"
      ],
      "execution_count": 13,
      "outputs": [
        {
          "output_type": "stream",
          "name": "stdout",
          "text": [
            "Melting dataframe dengan id_vars, value_vars, var_name. dan value_name:\n",
            "   kelas pelajaran      nilai\n",
            "0     A   english  68.333333\n",
            "1     B   english  55.000000\n",
            "2     A      math  70.000000\n",
            "3     B      math  85.000000\n"
          ]
        }
      ]
    },
    {
      "cell_type": "markdown",
      "metadata": {
        "id": "-M2CRkoMCh6c"
      },
      "source": [
        "# **Stack & Unstack**"
      ]
    },
    {
      "cell_type": "markdown",
      "metadata": {
        "id": "969KPGb4Nogx"
      },
      "source": [
        "Konsep stacking dan unstacking sama dengan melt dan pivot secara berurutan, hanya saja tidak memasukkan index sebagai parameter di stack/unstack tapi harus set index terlebih dahulu, baru bisa melakukan stacking/unstacking dengan level yang bisa ditentukan sendiri."
      ]
    },
    {
      "cell_type": "markdown",
      "metadata": {
        "id": "b_iM4PF4QEEP"
      },
      "source": [
        "## **Unstack**"
      ]
    },
    {
      "cell_type": "code",
      "metadata": {
        "id": "HIvLYhHKO13C",
        "colab": {
          "base_uri": "https://localhost:8080/"
        },
        "outputId": "f7c4b71f-8e93-4df2-f84c-288887341636"
      },
      "source": [
        "import pandas as pd\n",
        "# Dataframe\n",
        "data = pd.DataFrame({\n",
        "  'kelas': 6*['A'] + 6*['B'],\n",
        "  'murid': 2*['A1'] + 2*['A2'] + 2*['A3'] + 2*['B1'] + 2*['B2'] + 2*['B3'],\n",
        "  'pelajaran': 6*['math','english'],\n",
        "  'nilai': [90,60,70,85,50,60,100,40,95,80,60,45]\n",
        "}, columns=['kelas','murid','pelajaran','nilai'])\n",
        "print('Dataframe:\\n', data)"
      ],
      "execution_count": 14,
      "outputs": [
        {
          "output_type": "stream",
          "name": "stdout",
          "text": [
            "Dataframe:\n",
            "    kelas murid pelajaran  nilai\n",
            "0      A    A1      math     90\n",
            "1      A    A1   english     60\n",
            "2      A    A2      math     70\n",
            "3      A    A2   english     85\n",
            "4      A    A3      math     50\n",
            "5      A    A3   english     60\n",
            "6      B    B1      math    100\n",
            "7      B    B1   english     40\n",
            "8      B    B2      math     95\n",
            "9      B    B2   english     80\n",
            "10     B    B3      math     60\n",
            "11     B    B3   english     45\n"
          ]
        }
      ]
    },
    {
      "cell_type": "code",
      "metadata": {
        "id": "BtITYg3xO6KA",
        "colab": {
          "base_uri": "https://localhost:8080/"
        },
        "outputId": "7757c1a0-3ecb-492c-e7ef-3f54e9479a09"
      },
      "source": [
        "# Set index data untuk kolom kelas, murid, dan pelajaran\n",
        "data = data.set_index(['kelas','murid','pelajaran'])\n",
        "print('Dataframe multi index:\\n', data)"
      ],
      "execution_count": 15,
      "outputs": [
        {
          "output_type": "stream",
          "name": "stdout",
          "text": [
            "Dataframe multi index:\n",
            "                        nilai\n",
            "kelas murid pelajaran       \n",
            "A     A1    math          90\n",
            "            english       60\n",
            "      A2    math          70\n",
            "            english       85\n",
            "      A3    math          50\n",
            "            english       60\n",
            "B     B1    math         100\n",
            "            english       40\n",
            "      B2    math          95\n",
            "            english       80\n",
            "      B3    math          60\n",
            "            english       45\n"
          ]
        }
      ]
    },
    {
      "cell_type": "code",
      "metadata": {
        "id": "aAdzr3ZOPDth",
        "colab": {
          "base_uri": "https://localhost:8080/"
        },
        "outputId": "a9ae2c7d-fb87-4021-9b34-5050c4329812"
      },
      "source": [
        "# [1] Unstacking dataframe\n",
        "data_unstack_1 = data.unstack()\n",
        "print('Unstacking dataframe:\\n', data_unstack_1)"
      ],
      "execution_count": 16,
      "outputs": [
        {
          "output_type": "stream",
          "name": "stdout",
          "text": [
            "Unstacking dataframe:\n",
            "               nilai     \n",
            "pelajaran   english math\n",
            "kelas murid             \n",
            "A     A1         60   90\n",
            "      A2         85   70\n",
            "      A3         60   50\n",
            "B     B1         40  100\n",
            "      B2         80   95\n",
            "      B3         45   60\n"
          ]
        }
      ]
    },
    {
      "cell_type": "code",
      "metadata": {
        "id": "1zpf3DCOPKqX",
        "colab": {
          "base_uri": "https://localhost:8080/"
        },
        "outputId": "47c2105f-1745-4e87-a520-f949f0d572d3"
      },
      "source": [
        "# [2] Unstacking dengan specify level name\n",
        "data_unstack_2 = data.unstack(level='murid')\n",
        "print('Unstacking dataframe dengan level name:\\n', data_unstack_2)"
      ],
      "execution_count": 17,
      "outputs": [
        {
          "output_type": "stream",
          "name": "stdout",
          "text": [
            "Unstacking dataframe dengan level name:\n",
            "                 nilai                               \n",
            "murid              A1    A2    A3     B1    B2    B3\n",
            "kelas pelajaran                                     \n",
            "A     english    60.0  85.0  60.0    NaN   NaN   NaN\n",
            "      math       90.0  70.0  50.0    NaN   NaN   NaN\n",
            "B     english     NaN   NaN   NaN   40.0  80.0  45.0\n",
            "      math        NaN   NaN   NaN  100.0  95.0  60.0\n"
          ]
        }
      ]
    },
    {
      "cell_type": "code",
      "metadata": {
        "id": "DAoxn2N3PWif",
        "colab": {
          "base_uri": "https://localhost:8080/"
        },
        "outputId": "89edecc8-74fd-4307-a32a-6b4def4caf01"
      },
      "source": [
        "# [3] Unstacking dengan specify level position\n",
        "data_unstack_3 = data.unstack(level=1)\n",
        "print('Unstacking dataframe dengan level position:\\n', data_unstack_3)"
      ],
      "execution_count": 18,
      "outputs": [
        {
          "output_type": "stream",
          "name": "stdout",
          "text": [
            "Unstacking dataframe dengan level position:\n",
            "                 nilai                               \n",
            "murid              A1    A2    A3     B1    B2    B3\n",
            "kelas pelajaran                                     \n",
            "A     english    60.0  85.0  60.0    NaN   NaN   NaN\n",
            "      math       90.0  70.0  50.0    NaN   NaN   NaN\n",
            "B     english     NaN   NaN   NaN   40.0  80.0  45.0\n",
            "      math        NaN   NaN   NaN  100.0  95.0  60.0\n"
          ]
        }
      ]
    },
    {
      "cell_type": "markdown",
      "metadata": {
        "id": "RCxpe4_vNuSQ"
      },
      "source": [
        "## **Stack**"
      ]
    },
    {
      "cell_type": "code",
      "metadata": {
        "id": "cXu5gBHDQiU1",
        "colab": {
          "base_uri": "https://localhost:8080/"
        },
        "outputId": "3e575fbc-94a2-4d53-fc7c-168951fbe6bd"
      },
      "source": [
        "import pandas as pd\n",
        "# Dataframe\n",
        "data = pd.DataFrame({\n",
        "  'kelas': 6*['A'] + 6*['B'],\n",
        "  'murid': 2*['A1'] + 2*['A2'] + 2*['A3'] + 2*['B1'] + 2*['B2'] + 2*['B3'],\n",
        "  'pelajaran': 6*['math','english'],\n",
        "  'nilai': [90,60,70,85,50,60,100,40,95,80,60,45]\n",
        "}, columns=['kelas','murid','pelajaran','nilai'])\n",
        "data = data.set_index(['kelas','murid','pelajaran'])\n",
        "data_unstack = data.unstack(level=1)\n",
        "print('Dataframe:\\n', data_unstack)"
      ],
      "execution_count": 19,
      "outputs": [
        {
          "output_type": "stream",
          "name": "stdout",
          "text": [
            "Dataframe:\n",
            "                 nilai                               \n",
            "murid              A1    A2    A3     B1    B2    B3\n",
            "kelas pelajaran                                     \n",
            "A     english    60.0  85.0  60.0    NaN   NaN   NaN\n",
            "      math       90.0  70.0  50.0    NaN   NaN   NaN\n",
            "B     english     NaN   NaN   NaN   40.0  80.0  45.0\n",
            "      math        NaN   NaN   NaN  100.0  95.0  60.0\n"
          ]
        }
      ]
    },
    {
      "cell_type": "code",
      "metadata": {
        "id": "eAfyXhJHQrgI",
        "colab": {
          "base_uri": "https://localhost:8080/"
        },
        "outputId": "0a9f7794-8610-456a-b5d2-7b52aa1f3bcb"
      },
      "source": [
        "# [1] Stacking dataframe\n",
        "data_stack = data_unstack.stack()\n",
        "print('Stacked dataframe:\\n', data_stack)\n",
        "# [2] Tukar posisi index setelah stacking dataframe\n",
        "data_swap = data_stack.swaplevel(1,2)\n",
        "print('Swapped data:\\n', data_swap)\n",
        "# [3] Melakukan sort_index pada stacking dataframe\n",
        "data_sort = data_swap.sort_index()\n",
        "print('Sorted data:\\n', data_sort)"
      ],
      "execution_count": 20,
      "outputs": [
        {
          "output_type": "stream",
          "name": "stdout",
          "text": [
            "Stacked dataframe:\n",
            "                        nilai\n",
            "kelas pelajaran murid       \n",
            "A     english   A1      60.0\n",
            "                A2      85.0\n",
            "                A3      60.0\n",
            "      math      A1      90.0\n",
            "                A2      70.0\n",
            "                A3      50.0\n",
            "B     english   B1      40.0\n",
            "                B2      80.0\n",
            "                B3      45.0\n",
            "      math      B1     100.0\n",
            "                B2      95.0\n",
            "                B3      60.0\n",
            "Swapped data:\n",
            "                        nilai\n",
            "kelas murid pelajaran       \n",
            "A     A1    english     60.0\n",
            "      A2    english     85.0\n",
            "      A3    english     60.0\n",
            "      A1    math        90.0\n",
            "      A2    math        70.0\n",
            "      A3    math        50.0\n",
            "B     B1    english     40.0\n",
            "      B2    english     80.0\n",
            "      B3    english     45.0\n",
            "      B1    math       100.0\n",
            "      B2    math        95.0\n",
            "      B3    math        60.0\n",
            "Sorted data:\n",
            "                        nilai\n",
            "kelas murid pelajaran       \n",
            "A     A1    english     60.0\n",
            "            math        90.0\n",
            "      A2    english     85.0\n",
            "            math        70.0\n",
            "      A3    english     60.0\n",
            "            math        50.0\n",
            "B     B1    english     40.0\n",
            "            math       100.0\n",
            "      B2    english     80.0\n",
            "            math        95.0\n",
            "      B3    english     45.0\n",
            "            math        60.0\n"
          ]
        }
      ]
    }
  ]
}