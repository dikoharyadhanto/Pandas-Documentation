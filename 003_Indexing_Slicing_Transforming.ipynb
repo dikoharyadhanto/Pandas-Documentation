{
  "nbformat": 4,
  "nbformat_minor": 0,
  "metadata": {
    "colab": {
      "name": "003-Indexing_Slicing_Transforming.ipynb",
      "provenance": [],
      "authorship_tag": "ABX9TyNqzLDBY2T2I++BwCsfl/5f",
      "include_colab_link": true
    },
    "kernelspec": {
      "name": "python3",
      "display_name": "Python 3"
    },
    "language_info": {
      "name": "python"
    }
  },
  "cells": [
    {
      "cell_type": "markdown",
      "metadata": {
        "id": "view-in-github",
        "colab_type": "text"
      },
      "source": [
        "<a href=\"https://colab.research.google.com/github/dikoharyadhanto/Pandas-Documentation/blob/main/003_Indexing_Slicing_Transforming.ipynb\" target=\"_parent\"><img src=\"https://colab.research.google.com/assets/colab-badge.svg\" alt=\"Open In Colab\"/></a>"
      ]
    },
    {
      "cell_type": "markdown",
      "metadata": {
        "id": "LXM9dlmtt7p0"
      },
      "source": [
        "# **Indexing**"
      ]
    },
    {
      "cell_type": "markdown",
      "metadata": {
        "id": "0GpeVUOMt-P5"
      },
      "source": [
        "Index merupakan key identifier dari tiap row/column untuk Series atau Dataframe (sifatnya tidak mutable untuk masing-masing value tapi bisa diganti untuk semua value sekaligus)."
      ]
    },
    {
      "cell_type": "markdown",
      "metadata": {
        "id": "sXPzrRW4uPhi"
      },
      "source": [
        "Jika tidak disediakan, pandas akan membuat kolom index default secara otomatis sebagai bilangan bulat (integer) dari 0 sampai range jumlah baris data tersebut."
      ]
    },
    {
      "cell_type": "markdown",
      "metadata": {
        "id": "N68ArLj9uV4B"
      },
      "source": [
        "Kolom index dapat terdiri dari\n",
        "- satu kolom (single index), atau\n",
        "- multiple kolom (disebut dengan hierarchical indexing)."
      ]
    },
    {
      "cell_type": "markdown",
      "metadata": {
        "id": "rECW7iJQubfu"
      },
      "source": [
        "Index dengan multiple kolom ini terjadi karena unique identifier tidak dapat dicapai hanya dengan set index di 1 kolom saja sehingga membutuhkan beberapa kolom yang menjadikan tiap row menjadi unique."
      ]
    },
    {
      "cell_type": "markdown",
      "metadata": {
        "id": "bT-0KzkOurbs"
      },
      "source": [
        "Secara default setelah suatu data frame dibaca dari file dengan format tertentu, index-nya merupakan single index."
      ]
    },
    {
      "cell_type": "code",
      "metadata": {
        "id": "bDETFtLpusZ8",
        "colab": {
          "base_uri": "https://localhost:8080/"
        },
        "outputId": "69f014c4-9b0a-41ef-ddce-080bb84c8151"
      },
      "source": [
        "import pandas as pd\n",
        "# Baca file TSV sample_tsv.tsv\n",
        "df = pd.read_csv(\"https://storage.googleapis.com/dqlab-dataset/sample_tsv.tsv\", sep=\"\\t\")\n",
        "# Index dari df\n",
        "print(\"Index:\", df.index)\n",
        "# Column dari df\n",
        "print(\"Columns:\", df.columns)"
      ],
      "execution_count": 1,
      "outputs": [
        {
          "output_type": "stream",
          "name": "stdout",
          "text": [
            "Index: RangeIndex(start=0, stop=101, step=1)\n",
            "Columns: Index(['order_id', 'order_date', 'customer_id', 'city', 'province',\n",
            "       'product_id', 'brand', 'quantity', 'item_price'],\n",
            "      dtype='object')\n"
          ]
        }
      ]
    },
    {
      "cell_type": "markdown",
      "metadata": {
        "id": "poy7IBIBxHsg"
      },
      "source": [
        "Untuk membuat multi index (hierarchical indexing) dengan pandas diperlukan kolom-kolom mana saja yang perlu disusun agar index dari data frame menjadi sebuah hirarki yang kemudian dapat dikenali."
      ]
    },
    {
      "cell_type": "code",
      "metadata": {
        "id": "1L_khWmytT3o",
        "colab": {
          "base_uri": "https://localhost:8080/",
          "height": 359
        },
        "outputId": "de7ad038-f638-4f84-ef2f-c3926ebfedb8"
      },
      "source": [
        "import pandas as pd\n",
        "# Baca file TSV sample_tsv.tsv\n",
        "df = pd.read_csv(\"https://storage.googleapis.com/dqlab-dataset/sample_tsv.tsv\", sep=\"\\t\")\n",
        "df.head(10)"
      ],
      "execution_count": 2,
      "outputs": [
        {
          "output_type": "execute_result",
          "data": {
            "text/html": [
              "<div>\n",
              "<style scoped>\n",
              "    .dataframe tbody tr th:only-of-type {\n",
              "        vertical-align: middle;\n",
              "    }\n",
              "\n",
              "    .dataframe tbody tr th {\n",
              "        vertical-align: top;\n",
              "    }\n",
              "\n",
              "    .dataframe thead th {\n",
              "        text-align: right;\n",
              "    }\n",
              "</style>\n",
              "<table border=\"1\" class=\"dataframe\">\n",
              "  <thead>\n",
              "    <tr style=\"text-align: right;\">\n",
              "      <th></th>\n",
              "      <th>order_id</th>\n",
              "      <th>order_date</th>\n",
              "      <th>customer_id</th>\n",
              "      <th>city</th>\n",
              "      <th>province</th>\n",
              "      <th>product_id</th>\n",
              "      <th>brand</th>\n",
              "      <th>quantity</th>\n",
              "      <th>item_price</th>\n",
              "    </tr>\n",
              "  </thead>\n",
              "  <tbody>\n",
              "    <tr>\n",
              "      <th>0</th>\n",
              "      <td>1612339</td>\n",
              "      <td>2019-01-01</td>\n",
              "      <td>18055</td>\n",
              "      <td>Jakarta Selatan</td>\n",
              "      <td>DKI Jakarta</td>\n",
              "      <td>P0648</td>\n",
              "      <td>BRAND_C</td>\n",
              "      <td>4</td>\n",
              "      <td>1934000</td>\n",
              "    </tr>\n",
              "    <tr>\n",
              "      <th>1</th>\n",
              "      <td>1612339</td>\n",
              "      <td>2019-01-01</td>\n",
              "      <td>18055</td>\n",
              "      <td>Jakarta Selatan</td>\n",
              "      <td>DKI Jakarta</td>\n",
              "      <td>P3826</td>\n",
              "      <td>BRAND_V</td>\n",
              "      <td>8</td>\n",
              "      <td>604000</td>\n",
              "    </tr>\n",
              "    <tr>\n",
              "      <th>2</th>\n",
              "      <td>1612339</td>\n",
              "      <td>2019-01-01</td>\n",
              "      <td>18055</td>\n",
              "      <td>Jakarta Selatan</td>\n",
              "      <td>DKI Jakarta</td>\n",
              "      <td>P1508</td>\n",
              "      <td>BRAND_G</td>\n",
              "      <td>12</td>\n",
              "      <td>747000</td>\n",
              "    </tr>\n",
              "    <tr>\n",
              "      <th>3</th>\n",
              "      <td>1612339</td>\n",
              "      <td>2019-01-01</td>\n",
              "      <td>18055</td>\n",
              "      <td>Jakarta Selatan</td>\n",
              "      <td>DKI Jakarta</td>\n",
              "      <td>P0520</td>\n",
              "      <td>BRAND_B</td>\n",
              "      <td>12</td>\n",
              "      <td>450000</td>\n",
              "    </tr>\n",
              "    <tr>\n",
              "      <th>4</th>\n",
              "      <td>1612339</td>\n",
              "      <td>2019-01-01</td>\n",
              "      <td>18055</td>\n",
              "      <td>Jakarta Selatan</td>\n",
              "      <td>DKI Jakarta</td>\n",
              "      <td>P1513</td>\n",
              "      <td>BRAND_G</td>\n",
              "      <td>3</td>\n",
              "      <td>1500000</td>\n",
              "    </tr>\n",
              "    <tr>\n",
              "      <th>5</th>\n",
              "      <td>1612339</td>\n",
              "      <td>2019-01-01</td>\n",
              "      <td>18055</td>\n",
              "      <td>Jakarta Selatan</td>\n",
              "      <td>DKI Jakarta</td>\n",
              "      <td>P3911</td>\n",
              "      <td>BRAND_V</td>\n",
              "      <td>3</td>\n",
              "      <td>2095000</td>\n",
              "    </tr>\n",
              "    <tr>\n",
              "      <th>6</th>\n",
              "      <td>1612339</td>\n",
              "      <td>2019-01-01</td>\n",
              "      <td>18055</td>\n",
              "      <td>Jakarta Selatan</td>\n",
              "      <td>DKI Jakarta</td>\n",
              "      <td>P1780</td>\n",
              "      <td>BRAND_H</td>\n",
              "      <td>3</td>\n",
              "      <td>2095000</td>\n",
              "    </tr>\n",
              "    <tr>\n",
              "      <th>7</th>\n",
              "      <td>1612339</td>\n",
              "      <td>2019-01-01</td>\n",
              "      <td>18055</td>\n",
              "      <td>Jakarta Selatan</td>\n",
              "      <td>DKI Jakarta</td>\n",
              "      <td>P3132</td>\n",
              "      <td>BRAND_S</td>\n",
              "      <td>3</td>\n",
              "      <td>1745000</td>\n",
              "    </tr>\n",
              "    <tr>\n",
              "      <th>8</th>\n",
              "      <td>1612339</td>\n",
              "      <td>2019-01-01</td>\n",
              "      <td>18055</td>\n",
              "      <td>Jakarta Selatan</td>\n",
              "      <td>DKI Jakarta</td>\n",
              "      <td>P1342</td>\n",
              "      <td>BRAND_F</td>\n",
              "      <td>6</td>\n",
              "      <td>1045000</td>\n",
              "    </tr>\n",
              "    <tr>\n",
              "      <th>9</th>\n",
              "      <td>1612339</td>\n",
              "      <td>2019-01-01</td>\n",
              "      <td>18055</td>\n",
              "      <td>Jakarta Selatan</td>\n",
              "      <td>DKI Jakarta</td>\n",
              "      <td>P2556</td>\n",
              "      <td>BRAND_P</td>\n",
              "      <td>6</td>\n",
              "      <td>1045000</td>\n",
              "    </tr>\n",
              "  </tbody>\n",
              "</table>\n",
              "</div>"
            ],
            "text/plain": [
              "   order_id  order_date  customer_id  ...    brand quantity item_price\n",
              "0   1612339  2019-01-01        18055  ...  BRAND_C        4    1934000\n",
              "1   1612339  2019-01-01        18055  ...  BRAND_V        8     604000\n",
              "2   1612339  2019-01-01        18055  ...  BRAND_G       12     747000\n",
              "3   1612339  2019-01-01        18055  ...  BRAND_B       12     450000\n",
              "4   1612339  2019-01-01        18055  ...  BRAND_G        3    1500000\n",
              "5   1612339  2019-01-01        18055  ...  BRAND_V        3    2095000\n",
              "6   1612339  2019-01-01        18055  ...  BRAND_H        3    2095000\n",
              "7   1612339  2019-01-01        18055  ...  BRAND_S        3    1745000\n",
              "8   1612339  2019-01-01        18055  ...  BRAND_F        6    1045000\n",
              "9   1612339  2019-01-01        18055  ...  BRAND_P        6    1045000\n",
              "\n",
              "[10 rows x 9 columns]"
            ]
          },
          "metadata": {},
          "execution_count": 2
        }
      ]
    },
    {
      "cell_type": "code",
      "metadata": {
        "id": "G1SYZIhEPDSK",
        "colab": {
          "base_uri": "https://localhost:8080/"
        },
        "outputId": "bba7c94f-9959-40c4-9aa1-a136af9c3097"
      },
      "source": [
        "# Set multi index df\n",
        "df_x = df.set_index(['order_date', 'city', 'customer_id'])\n",
        "# Print nama dan level dari multi index\n",
        "for name, level in zip(df_x.index.names, df_x.index.levels):\n",
        "    print(name,':',level)"
      ],
      "execution_count": 3,
      "outputs": [
        {
          "output_type": "stream",
          "name": "stdout",
          "text": [
            "order_date : Index(['2019-01-01'], dtype='object', name='order_date')\n",
            "city : Index(['Bogor', 'Jakarta Pusat', 'Jakarta Selatan', 'Jakarta Utara',\n",
            "       'Makassar', 'Malang', 'Surabaya', 'Tangerang'],\n",
            "      dtype='object', name='city')\n",
            "customer_id : Int64Index([12681, 13963, 15649, 17091, 17228, 17450, 17470, 17511, 17616,\n",
            "            18055],\n",
            "           dtype='int64', name='customer_id')\n"
          ]
        }
      ]
    },
    {
      "cell_type": "code",
      "metadata": {
        "id": "a_F9_CumPJFE",
        "colab": {
          "base_uri": "https://localhost:8080/",
          "height": 390
        },
        "outputId": "4b19d52c-690b-47ba-e2be-f6b00950252e"
      },
      "source": [
        "df_x.head(10)"
      ],
      "execution_count": 4,
      "outputs": [
        {
          "output_type": "execute_result",
          "data": {
            "text/html": [
              "<div>\n",
              "<style scoped>\n",
              "    .dataframe tbody tr th:only-of-type {\n",
              "        vertical-align: middle;\n",
              "    }\n",
              "\n",
              "    .dataframe tbody tr th {\n",
              "        vertical-align: top;\n",
              "    }\n",
              "\n",
              "    .dataframe thead th {\n",
              "        text-align: right;\n",
              "    }\n",
              "</style>\n",
              "<table border=\"1\" class=\"dataframe\">\n",
              "  <thead>\n",
              "    <tr style=\"text-align: right;\">\n",
              "      <th></th>\n",
              "      <th></th>\n",
              "      <th></th>\n",
              "      <th>order_id</th>\n",
              "      <th>province</th>\n",
              "      <th>product_id</th>\n",
              "      <th>brand</th>\n",
              "      <th>quantity</th>\n",
              "      <th>item_price</th>\n",
              "    </tr>\n",
              "    <tr>\n",
              "      <th>order_date</th>\n",
              "      <th>city</th>\n",
              "      <th>customer_id</th>\n",
              "      <th></th>\n",
              "      <th></th>\n",
              "      <th></th>\n",
              "      <th></th>\n",
              "      <th></th>\n",
              "      <th></th>\n",
              "    </tr>\n",
              "  </thead>\n",
              "  <tbody>\n",
              "    <tr>\n",
              "      <th rowspan=\"10\" valign=\"top\">2019-01-01</th>\n",
              "      <th rowspan=\"10\" valign=\"top\">Jakarta Selatan</th>\n",
              "      <th>18055</th>\n",
              "      <td>1612339</td>\n",
              "      <td>DKI Jakarta</td>\n",
              "      <td>P0648</td>\n",
              "      <td>BRAND_C</td>\n",
              "      <td>4</td>\n",
              "      <td>1934000</td>\n",
              "    </tr>\n",
              "    <tr>\n",
              "      <th>18055</th>\n",
              "      <td>1612339</td>\n",
              "      <td>DKI Jakarta</td>\n",
              "      <td>P3826</td>\n",
              "      <td>BRAND_V</td>\n",
              "      <td>8</td>\n",
              "      <td>604000</td>\n",
              "    </tr>\n",
              "    <tr>\n",
              "      <th>18055</th>\n",
              "      <td>1612339</td>\n",
              "      <td>DKI Jakarta</td>\n",
              "      <td>P1508</td>\n",
              "      <td>BRAND_G</td>\n",
              "      <td>12</td>\n",
              "      <td>747000</td>\n",
              "    </tr>\n",
              "    <tr>\n",
              "      <th>18055</th>\n",
              "      <td>1612339</td>\n",
              "      <td>DKI Jakarta</td>\n",
              "      <td>P0520</td>\n",
              "      <td>BRAND_B</td>\n",
              "      <td>12</td>\n",
              "      <td>450000</td>\n",
              "    </tr>\n",
              "    <tr>\n",
              "      <th>18055</th>\n",
              "      <td>1612339</td>\n",
              "      <td>DKI Jakarta</td>\n",
              "      <td>P1513</td>\n",
              "      <td>BRAND_G</td>\n",
              "      <td>3</td>\n",
              "      <td>1500000</td>\n",
              "    </tr>\n",
              "    <tr>\n",
              "      <th>18055</th>\n",
              "      <td>1612339</td>\n",
              "      <td>DKI Jakarta</td>\n",
              "      <td>P3911</td>\n",
              "      <td>BRAND_V</td>\n",
              "      <td>3</td>\n",
              "      <td>2095000</td>\n",
              "    </tr>\n",
              "    <tr>\n",
              "      <th>18055</th>\n",
              "      <td>1612339</td>\n",
              "      <td>DKI Jakarta</td>\n",
              "      <td>P1780</td>\n",
              "      <td>BRAND_H</td>\n",
              "      <td>3</td>\n",
              "      <td>2095000</td>\n",
              "    </tr>\n",
              "    <tr>\n",
              "      <th>18055</th>\n",
              "      <td>1612339</td>\n",
              "      <td>DKI Jakarta</td>\n",
              "      <td>P3132</td>\n",
              "      <td>BRAND_S</td>\n",
              "      <td>3</td>\n",
              "      <td>1745000</td>\n",
              "    </tr>\n",
              "    <tr>\n",
              "      <th>18055</th>\n",
              "      <td>1612339</td>\n",
              "      <td>DKI Jakarta</td>\n",
              "      <td>P1342</td>\n",
              "      <td>BRAND_F</td>\n",
              "      <td>6</td>\n",
              "      <td>1045000</td>\n",
              "    </tr>\n",
              "    <tr>\n",
              "      <th>18055</th>\n",
              "      <td>1612339</td>\n",
              "      <td>DKI Jakarta</td>\n",
              "      <td>P2556</td>\n",
              "      <td>BRAND_P</td>\n",
              "      <td>6</td>\n",
              "      <td>1045000</td>\n",
              "    </tr>\n",
              "  </tbody>\n",
              "</table>\n",
              "</div>"
            ],
            "text/plain": [
              "                                        order_id  ... item_price\n",
              "order_date city            customer_id            ...           \n",
              "2019-01-01 Jakarta Selatan 18055         1612339  ...    1934000\n",
              "                           18055         1612339  ...     604000\n",
              "                           18055         1612339  ...     747000\n",
              "                           18055         1612339  ...     450000\n",
              "                           18055         1612339  ...    1500000\n",
              "                           18055         1612339  ...    2095000\n",
              "                           18055         1612339  ...    2095000\n",
              "                           18055         1612339  ...    1745000\n",
              "                           18055         1612339  ...    1045000\n",
              "                           18055         1612339  ...    1045000\n",
              "\n",
              "[10 rows x 6 columns]"
            ]
          },
          "metadata": {},
          "execution_count": 4
        }
      ]
    },
    {
      "cell_type": "markdown",
      "metadata": {
        "id": "8XCvDKlr4KRE"
      },
      "source": [
        "Selain menggunakan method `.set_index()`. bisa menggunakan assignment untuk menset index dari suatu data frame."
      ]
    },
    {
      "cell_type": "code",
      "metadata": {
        "id": "LgBcc_Xt4RgP",
        "colab": {
          "base_uri": "https://localhost:8080/"
        },
        "outputId": "ac204672-5fab-4e77-cc0c-f2c9ba5971eb"
      },
      "source": [
        "import pandas as pd\n",
        "# Baca file sample_tsv.tsv untuk 10 baris pertama saja\n",
        "df = pd.read_csv(\"https://storage.googleapis.com/dqlab-dataset/sample_tsv.tsv\", sep=\"\\t\", nrows=10)\n",
        "# Cetak data frame awal\n",
        "print(\"Dataframe awal:\\n\", df)\n",
        "# Set index baru\n",
        "df.index = [\"Pesanan ke-\" + str(i) for i in range(1, 11)]\n",
        "# Cetak data frame dengan index baru\n",
        "print(\"Dataframe dengan index baru:\\n\", df)"
      ],
      "execution_count": 5,
      "outputs": [
        {
          "output_type": "stream",
          "name": "stdout",
          "text": [
            "Dataframe awal:\n",
            "    order_id  order_date  customer_id  ...    brand quantity item_price\n",
            "0   1612339  2019-01-01        18055  ...  BRAND_C        4    1934000\n",
            "1   1612339  2019-01-01        18055  ...  BRAND_V        8     604000\n",
            "2   1612339  2019-01-01        18055  ...  BRAND_G       12     747000\n",
            "3   1612339  2019-01-01        18055  ...  BRAND_B       12     450000\n",
            "4   1612339  2019-01-01        18055  ...  BRAND_G        3    1500000\n",
            "5   1612339  2019-01-01        18055  ...  BRAND_V        3    2095000\n",
            "6   1612339  2019-01-01        18055  ...  BRAND_H        3    2095000\n",
            "7   1612339  2019-01-01        18055  ...  BRAND_S        3    1745000\n",
            "8   1612339  2019-01-01        18055  ...  BRAND_F        6    1045000\n",
            "9   1612339  2019-01-01        18055  ...  BRAND_P        6    1045000\n",
            "\n",
            "[10 rows x 9 columns]\n",
            "Dataframe dengan index baru:\n",
            "                order_id  order_date  customer_id  ...    brand quantity item_price\n",
            "Pesanan ke-1    1612339  2019-01-01        18055  ...  BRAND_C        4    1934000\n",
            "Pesanan ke-2    1612339  2019-01-01        18055  ...  BRAND_V        8     604000\n",
            "Pesanan ke-3    1612339  2019-01-01        18055  ...  BRAND_G       12     747000\n",
            "Pesanan ke-4    1612339  2019-01-01        18055  ...  BRAND_B       12     450000\n",
            "Pesanan ke-5    1612339  2019-01-01        18055  ...  BRAND_G        3    1500000\n",
            "Pesanan ke-6    1612339  2019-01-01        18055  ...  BRAND_V        3    2095000\n",
            "Pesanan ke-7    1612339  2019-01-01        18055  ...  BRAND_H        3    2095000\n",
            "Pesanan ke-8    1612339  2019-01-01        18055  ...  BRAND_S        3    1745000\n",
            "Pesanan ke-9    1612339  2019-01-01        18055  ...  BRAND_F        6    1045000\n",
            "Pesanan ke-10   1612339  2019-01-01        18055  ...  BRAND_P        6    1045000\n",
            "\n",
            "[10 rows x 9 columns]\n"
          ]
        }
      ]
    },
    {
      "cell_type": "markdown",
      "metadata": {
        "id": "OweRb3_37yTz"
      },
      "source": [
        "**Note:**\n",
        "\n",
        "- Cara yang ditunjukkan oleh baris ketujuh (ke 7) pada code editor di atas hanya berlaku jika index yang diassign tersebut memiliki panjang yang sama dengan jumlah baris dari dataframe.\n",
        "- Jika ingin kembalikan dataframe ke index defaultnya yaitu dari 0 s/d jumlah baris data - 1, maka dapat menggunakan method `.reset_index(drop=True)`, argument `drop=True` bertujuan untuk menghapus index lama. "
      ]
    },
    {
      "cell_type": "markdown",
      "metadata": {
        "id": "Tsut5xURgWbS"
      },
      "source": [
        "Jika file yang akan dibaca melalu penggunaan library pandas dapat dipreview terlebih dahulu struktur datanya maka melalui fungsi yang ditujukan untuk **membaca file dapat diset mana kolom yang akan dijadikan index.**"
      ]
    },
    {
      "cell_type": "markdown",
      "metadata": {
        "id": "t8qZdwa2gc3U"
      },
      "source": [
        "Fitur ini telah dimiliki oleh setiap fungsi yang digunakan dalam membaca data dengan pandas, yaitu penggunaan argumen `index_col` pada fungsi yang dimaksud."
      ]
    },
    {
      "cell_type": "code",
      "metadata": {
        "id": "OuLr62OfglVU",
        "colab": {
          "base_uri": "https://localhost:8080/"
        },
        "outputId": "680124c5-2cdb-4136-efbd-0361cb4cc233"
      },
      "source": [
        "import pandas as pd\n",
        "# Baca file sample_tsv.tsv dan set lah index_col sesuai instruksi\n",
        "df = pd.read_csv(\"https://storage.googleapis.com/dqlab-dataset/sample_tsv.tsv\", sep=\"\\t\", index_col=[\"order_date\",\"order_id\"])\n",
        "# Cetak data frame untuk 8 data teratas\n",
        "print(\"Dataframe:\\n\", df.head(8))"
      ],
      "execution_count": 6,
      "outputs": [
        {
          "output_type": "stream",
          "name": "stdout",
          "text": [
            "Dataframe:\n",
            "                      customer_id             city  ... quantity item_price\n",
            "order_date order_id                                ...                    \n",
            "2019-01-01 1612339         18055  Jakarta Selatan  ...        4    1934000\n",
            "           1612339         18055  Jakarta Selatan  ...        8     604000\n",
            "           1612339         18055  Jakarta Selatan  ...       12     747000\n",
            "           1612339         18055  Jakarta Selatan  ...       12     450000\n",
            "           1612339         18055  Jakarta Selatan  ...        3    1500000\n",
            "           1612339         18055  Jakarta Selatan  ...        3    2095000\n",
            "           1612339         18055  Jakarta Selatan  ...        3    2095000\n",
            "           1612339         18055  Jakarta Selatan  ...        3    1745000\n",
            "\n",
            "[8 rows x 7 columns]\n"
          ]
        }
      ]
    },
    {
      "cell_type": "markdown",
      "metadata": {
        "id": "bJRqsbqLgh-M"
      },
      "source": [
        "# **Slicing**"
      ]
    },
    {
      "cell_type": "markdown",
      "metadata": {
        "id": "ALVW1TpL6WrW"
      },
      "source": [
        "Terdapat 2 cara paling terkenal untuk slicing dataframe, yaitu dengan menggunakan method `.loc` dan `.iloc` pada variabel bertipe pandas DataFrame/Series.Method `.iloc` ditujukan untuk proses slicing berdasarkan index berupa nilai integer tertentu. Akan tetapi akan lebih sering menggunakan dengan method `.loc` karena lebih fleksibel. "
      ]
    },
    {
      "cell_type": "code",
      "metadata": {
        "id": "TIl0XVxp8sFh",
        "colab": {
          "base_uri": "https://localhost:8080/"
        },
        "outputId": "acb9760b-61ff-4626-aeed-0571577b35c6"
      },
      "source": [
        "import pandas as pd\n",
        "# Baca file sample_csv.csv\n",
        "df = pd.read_csv(\"https://storage.googleapis.com/dqlab-dataset/sample_csv.csv\")\n",
        "# Slice langsung berdasarkan kolom\n",
        "df_slice = df.loc[(df[\"customer_id\"] == \"18055\") &\n",
        "\t\t              (df[\"product_id\"].isin([\"P0029\",\"P0040\",\"P0041\",\"P0116\",\"P0117\"]))\n",
        "\t\t\t\t         ]\n",
        "print(\"Slice langsung berdasarkan kolom:\\n\", df_slice)"
      ],
      "execution_count": 7,
      "outputs": [
        {
          "output_type": "stream",
          "name": "stdout",
          "text": [
            "Slice langsung berdasarkan kolom:\n",
            " Empty DataFrame\n",
            "Columns: [order_id, order_date, customer_id, city, province, product_id, brand, quantity, item_price]\n",
            "Index: []\n"
          ]
        }
      ]
    },
    {
      "cell_type": "markdown",
      "metadata": {
        "id": "nObxkKpn9PVI"
      },
      "source": [
        "Dalam melakukan method `.iloc`, syaratnya adalah dataset sudah dilakukan indexing terlebih dahulu melalui penerapan method `.set_index `"
      ]
    },
    {
      "cell_type": "code",
      "metadata": {
        "id": "wjDTLO-T9V1M",
        "colab": {
          "base_uri": "https://localhost:8080/",
          "height": 235
        },
        "outputId": "935b44ac-1f73-4565-9564-4459ef38025d"
      },
      "source": [
        "import pandas as pd\n",
        "# Baca file sample_csv.csv\n",
        "df = pd.read_csv(\"https://storage.googleapis.com/dqlab-dataset/sample_csv.csv\")\n",
        "# Set index dari df sesuai instruksi\n",
        "df = df.set_index([\"order_date\",\"order_id\",\"product_id\"])\n",
        "df.head()"
      ],
      "execution_count": 8,
      "outputs": [
        {
          "output_type": "execute_result",
          "data": {
            "text/html": [
              "<div>\n",
              "<style scoped>\n",
              "    .dataframe tbody tr th:only-of-type {\n",
              "        vertical-align: middle;\n",
              "    }\n",
              "\n",
              "    .dataframe tbody tr th {\n",
              "        vertical-align: top;\n",
              "    }\n",
              "\n",
              "    .dataframe thead th {\n",
              "        text-align: right;\n",
              "    }\n",
              "</style>\n",
              "<table border=\"1\" class=\"dataframe\">\n",
              "  <thead>\n",
              "    <tr style=\"text-align: right;\">\n",
              "      <th></th>\n",
              "      <th></th>\n",
              "      <th></th>\n",
              "      <th>customer_id</th>\n",
              "      <th>city</th>\n",
              "      <th>province</th>\n",
              "      <th>brand</th>\n",
              "      <th>quantity</th>\n",
              "      <th>item_price</th>\n",
              "    </tr>\n",
              "    <tr>\n",
              "      <th>order_date</th>\n",
              "      <th>order_id</th>\n",
              "      <th>product_id</th>\n",
              "      <th></th>\n",
              "      <th></th>\n",
              "      <th></th>\n",
              "      <th></th>\n",
              "      <th></th>\n",
              "      <th></th>\n",
              "    </tr>\n",
              "  </thead>\n",
              "  <tbody>\n",
              "    <tr>\n",
              "      <th rowspan=\"5\" valign=\"top\">2019-01-01</th>\n",
              "      <th rowspan=\"5\" valign=\"top\">1612339</th>\n",
              "      <th>P0648</th>\n",
              "      <td>18055</td>\n",
              "      <td>Jakarta Selatan</td>\n",
              "      <td>DKI Jakarta</td>\n",
              "      <td>BRAND_C</td>\n",
              "      <td>4</td>\n",
              "      <td>1934000</td>\n",
              "    </tr>\n",
              "    <tr>\n",
              "      <th>P3826</th>\n",
              "      <td>18055</td>\n",
              "      <td>Jakarta Selatan</td>\n",
              "      <td>DKI Jakarta</td>\n",
              "      <td>BRAND_V</td>\n",
              "      <td>8</td>\n",
              "      <td>604000</td>\n",
              "    </tr>\n",
              "    <tr>\n",
              "      <th>P1508</th>\n",
              "      <td>18055</td>\n",
              "      <td>Jakarta Selatan</td>\n",
              "      <td>DKI Jakarta</td>\n",
              "      <td>BRAND_G</td>\n",
              "      <td>12</td>\n",
              "      <td>747000</td>\n",
              "    </tr>\n",
              "    <tr>\n",
              "      <th>P0520</th>\n",
              "      <td>18055</td>\n",
              "      <td>Jakarta Selatan</td>\n",
              "      <td>DKI Jakarta</td>\n",
              "      <td>BRAND_B</td>\n",
              "      <td>12</td>\n",
              "      <td>450000</td>\n",
              "    </tr>\n",
              "    <tr>\n",
              "      <th>P1513</th>\n",
              "      <td>18055</td>\n",
              "      <td>Jakarta Selatan</td>\n",
              "      <td>DKI Jakarta</td>\n",
              "      <td>BRAND_G</td>\n",
              "      <td>3</td>\n",
              "      <td>1500000</td>\n",
              "    </tr>\n",
              "  </tbody>\n",
              "</table>\n",
              "</div>"
            ],
            "text/plain": [
              "                                customer_id  ... item_price\n",
              "order_date order_id product_id               ...           \n",
              "2019-01-01 1612339  P0648             18055  ...    1934000\n",
              "                    P3826             18055  ...     604000\n",
              "                    P1508             18055  ...     747000\n",
              "                    P0520             18055  ...     450000\n",
              "                    P1513             18055  ...    1500000\n",
              "\n",
              "[5 rows x 6 columns]"
            ]
          },
          "metadata": {},
          "execution_count": 8
        }
      ]
    },
    {
      "cell_type": "code",
      "metadata": {
        "id": "AWIrtGVqRTlc",
        "colab": {
          "base_uri": "https://localhost:8080/",
          "height": 142
        },
        "outputId": "44b18081-42b7-41f6-8e23-f100b53d0fe3"
      },
      "source": [
        "# Cara 1 - Gunakan method .loc\n",
        "df_slice = df.loc[(\"2019-01-01\",1612339,[\"P2154\",\"P2159\"]),:]\n",
        "df_slice"
      ],
      "execution_count": 9,
      "outputs": [
        {
          "output_type": "execute_result",
          "data": {
            "text/html": [
              "<div>\n",
              "<style scoped>\n",
              "    .dataframe tbody tr th:only-of-type {\n",
              "        vertical-align: middle;\n",
              "    }\n",
              "\n",
              "    .dataframe tbody tr th {\n",
              "        vertical-align: top;\n",
              "    }\n",
              "\n",
              "    .dataframe thead th {\n",
              "        text-align: right;\n",
              "    }\n",
              "</style>\n",
              "<table border=\"1\" class=\"dataframe\">\n",
              "  <thead>\n",
              "    <tr style=\"text-align: right;\">\n",
              "      <th></th>\n",
              "      <th></th>\n",
              "      <th></th>\n",
              "      <th>customer_id</th>\n",
              "      <th>city</th>\n",
              "      <th>province</th>\n",
              "      <th>brand</th>\n",
              "      <th>quantity</th>\n",
              "      <th>item_price</th>\n",
              "    </tr>\n",
              "    <tr>\n",
              "      <th>order_date</th>\n",
              "      <th>order_id</th>\n",
              "      <th>product_id</th>\n",
              "      <th></th>\n",
              "      <th></th>\n",
              "      <th></th>\n",
              "      <th></th>\n",
              "      <th></th>\n",
              "      <th></th>\n",
              "    </tr>\n",
              "  </thead>\n",
              "  <tbody>\n",
              "    <tr>\n",
              "      <th rowspan=\"2\" valign=\"top\">2019-01-01</th>\n",
              "      <th rowspan=\"2\" valign=\"top\">1612339</th>\n",
              "      <th>P2154</th>\n",
              "      <td>18055</td>\n",
              "      <td>Jakarta Selatan</td>\n",
              "      <td>DKI Jakarta</td>\n",
              "      <td>BRAND_M</td>\n",
              "      <td>4</td>\n",
              "      <td>1745000</td>\n",
              "    </tr>\n",
              "    <tr>\n",
              "      <th>P2159</th>\n",
              "      <td>18055</td>\n",
              "      <td>Jakarta Selatan</td>\n",
              "      <td>DKI Jakarta</td>\n",
              "      <td>BRAND_M</td>\n",
              "      <td>24</td>\n",
              "      <td>310000</td>\n",
              "    </tr>\n",
              "  </tbody>\n",
              "</table>\n",
              "</div>"
            ],
            "text/plain": [
              "                                customer_id  ... item_price\n",
              "order_date order_id product_id               ...           \n",
              "2019-01-01 1612339  P2154             18055  ...    1745000\n",
              "                    P2159             18055  ...     310000\n",
              "\n",
              "[2 rows x 6 columns]"
            ]
          },
          "metadata": {},
          "execution_count": 9
        }
      ]
    },
    {
      "cell_type": "code",
      "metadata": {
        "id": "VJr9zt2YRUsx",
        "colab": {
          "base_uri": "https://localhost:8080/",
          "height": 142
        },
        "outputId": "ec38d2e5-82ef-4a2f-f67f-300bb5fb5018"
      },
      "source": [
        "# Cara 2 - Gunakan pd.IndexSlice\n",
        "idx = pd.IndexSlice\n",
        "df_slice2 = df.sort_index().loc[idx[\"2019-01-01\",1612339,[\"P2154\",\"P2159\"]], :]\n",
        "df_slice2"
      ],
      "execution_count": 10,
      "outputs": [
        {
          "output_type": "execute_result",
          "data": {
            "text/html": [
              "<div>\n",
              "<style scoped>\n",
              "    .dataframe tbody tr th:only-of-type {\n",
              "        vertical-align: middle;\n",
              "    }\n",
              "\n",
              "    .dataframe tbody tr th {\n",
              "        vertical-align: top;\n",
              "    }\n",
              "\n",
              "    .dataframe thead th {\n",
              "        text-align: right;\n",
              "    }\n",
              "</style>\n",
              "<table border=\"1\" class=\"dataframe\">\n",
              "  <thead>\n",
              "    <tr style=\"text-align: right;\">\n",
              "      <th></th>\n",
              "      <th></th>\n",
              "      <th></th>\n",
              "      <th>customer_id</th>\n",
              "      <th>city</th>\n",
              "      <th>province</th>\n",
              "      <th>brand</th>\n",
              "      <th>quantity</th>\n",
              "      <th>item_price</th>\n",
              "    </tr>\n",
              "    <tr>\n",
              "      <th>order_date</th>\n",
              "      <th>order_id</th>\n",
              "      <th>product_id</th>\n",
              "      <th></th>\n",
              "      <th></th>\n",
              "      <th></th>\n",
              "      <th></th>\n",
              "      <th></th>\n",
              "      <th></th>\n",
              "    </tr>\n",
              "  </thead>\n",
              "  <tbody>\n",
              "    <tr>\n",
              "      <th rowspan=\"2\" valign=\"top\">2019-01-01</th>\n",
              "      <th rowspan=\"2\" valign=\"top\">1612339</th>\n",
              "      <th>P2154</th>\n",
              "      <td>18055</td>\n",
              "      <td>Jakarta Selatan</td>\n",
              "      <td>DKI Jakarta</td>\n",
              "      <td>BRAND_M</td>\n",
              "      <td>4</td>\n",
              "      <td>1745000</td>\n",
              "    </tr>\n",
              "    <tr>\n",
              "      <th>P2159</th>\n",
              "      <td>18055</td>\n",
              "      <td>Jakarta Selatan</td>\n",
              "      <td>DKI Jakarta</td>\n",
              "      <td>BRAND_M</td>\n",
              "      <td>24</td>\n",
              "      <td>310000</td>\n",
              "    </tr>\n",
              "  </tbody>\n",
              "</table>\n",
              "</div>"
            ],
            "text/plain": [
              "                                customer_id  ... item_price\n",
              "order_date order_id product_id               ...           \n",
              "2019-01-01 1612339  P2154             18055  ...    1745000\n",
              "                    P2159             18055  ...     310000\n",
              "\n",
              "[2 rows x 6 columns]"
            ]
          },
          "metadata": {},
          "execution_count": 10
        }
      ]
    },
    {
      "cell_type": "markdown",
      "metadata": {
        "id": "o8AkLNQ7AqlC"
      },
      "source": [
        "# **Transforming**"
      ]
    },
    {
      "cell_type": "markdown",
      "metadata": {
        "id": "6cVHJ_IMA1WG"
      },
      "source": [
        "Transform adalah ketika mengubah dataset yang ada menjadi entitas baru, dapat dilakukan dengan\n",
        "\n",
        "- konversi dari satu data type ke data type yang lain,\n",
        "- transpose dataframe\n",
        "- atau yang lainnya.\n"
      ]
    },
    {
      "cell_type": "markdown",
      "metadata": {
        "id": "NkInCxHjA-Lx"
      },
      "source": [
        "Untuk mengecek tipe data di setiap kolomnya apakah sesuai dengan representasinya. Untuk itu dapat menggunakan attribut `.dtypes`"
      ]
    },
    {
      "cell_type": "code",
      "metadata": {
        "id": "aTzTazmcBK0t"
      },
      "source": [
        "[nama_dataframe].dtypes "
      ],
      "execution_count": null,
      "outputs": []
    },
    {
      "cell_type": "markdown",
      "metadata": {
        "id": "EnbnJbG8BMM7"
      },
      "source": [
        "Untuk merubah kolom date_order yang sebelumnya bertipe object menjadi kolom bertipe datetime, caranya sebagai berikut:"
      ]
    },
    {
      "cell_type": "code",
      "metadata": {
        "id": "A_j02wvvB0ud"
      },
      "source": [
        "nama_dataframe[\"nama_kolom\"] = pd.to_datetime(nama_dataframe[\"nama_kolom\"]) "
      ],
      "execution_count": null,
      "outputs": []
    },
    {
      "cell_type": "code",
      "metadata": {
        "id": "SSG-8ZxyB3wk",
        "colab": {
          "base_uri": "https://localhost:8080/"
        },
        "outputId": "558d74a2-2b5c-42e7-f041-2a9347129e7b"
      },
      "source": [
        "import pandas as pd\n",
        "# Baca file sample_csv.csv\n",
        "df = pd.read_csv(\"https://storage.googleapis.com/dqlab-dataset/sample_csv.csv\")\n",
        "# Tampilkan tipe data\n",
        "print(\"Tipe data df:\\n\", df.dtypes)\n",
        "# Ubah tipe data kolom order_date menjadi datetime\n",
        "df[\"order_date\"] = pd.to_datetime(df[\"order_date\"])\n",
        "# Tampilkan tipe data df setelah transformasi\n",
        "print(\"\\nTipe data df setelah transformasi:\\n\", df.dtypes)"
      ],
      "execution_count": 12,
      "outputs": [
        {
          "output_type": "stream",
          "name": "stdout",
          "text": [
            "Tipe data df:\n",
            " order_id        int64\n",
            "order_date     object\n",
            "customer_id     int64\n",
            "city           object\n",
            "province       object\n",
            "product_id     object\n",
            "brand          object\n",
            "quantity        int64\n",
            "item_price      int64\n",
            "dtype: object\n",
            "\n",
            "Tipe data df setelah transformasi:\n",
            " order_id                int64\n",
            "order_date     datetime64[ns]\n",
            "customer_id             int64\n",
            "city                   object\n",
            "province               object\n",
            "product_id             object\n",
            "brand                  object\n",
            "quantity                int64\n",
            "item_price              int64\n",
            "dtype: object\n"
          ]
        }
      ]
    },
    {
      "cell_type": "markdown",
      "metadata": {
        "id": "6GpXseIJDZYG"
      },
      "source": [
        "Kita akan mengubah tipe data pada kolom dataframe yang telah dibaca menjadi tipe data float (kolom quantity) dan tipe categori (kolom city)."
      ]
    },
    {
      "cell_type": "code",
      "metadata": {
        "id": "btQb1RgoDeos"
      },
      "source": [
        "nama_dataframe[\"nama_kolom\"] = pd.to_numeric(nama_dataframe[\"nama_kolom\"], downcast=\"tipe_data_baru\")"
      ],
      "execution_count": null,
      "outputs": []
    },
    {
      "cell_type": "code",
      "metadata": {
        "id": "qBZUcza3Dmab"
      },
      "source": [
        "nama_dataframe[\"nama_kolom\"] = nama_dataframe[\"nama_kolom\"].astype(\"category\")"
      ],
      "execution_count": null,
      "outputs": []
    },
    {
      "cell_type": "code",
      "metadata": {
        "id": "TQWeBxupDygf",
        "colab": {
          "base_uri": "https://localhost:8080/"
        },
        "outputId": "5ba0cb10-de0a-44a2-8914-2dcff761b056"
      },
      "source": [
        "import pandas as pd\n",
        "# Baca file sample_csv.csv\n",
        "df = pd.read_csv(\"https://storage.googleapis.com/dqlab-dataset/sample_csv.csv\")\n",
        "# Tampilkan tipe data\n",
        "print(\"Tipe data df:\\n\", df.dtypes)\n",
        "# Ubah tipe data kolom quantity menjadi tipe data numerik float\n",
        "df[\"quantity\"] = pd.to_numeric(df[\"quantity\"], downcast=\"float\")\n",
        "# Ubah tipe data kolom city menjadi tipe data category\n",
        "df[\"city\"] = df[\"city\"].astype(\"category\")\n",
        "# Tampilkan tipe data df setelah transformasi\n",
        "print(\"\\nTipe data df setelah transformasi:\\n\", df.dtypes)"
      ],
      "execution_count": 13,
      "outputs": [
        {
          "output_type": "stream",
          "name": "stdout",
          "text": [
            "Tipe data df:\n",
            " order_id        int64\n",
            "order_date     object\n",
            "customer_id     int64\n",
            "city           object\n",
            "province       object\n",
            "product_id     object\n",
            "brand          object\n",
            "quantity        int64\n",
            "item_price      int64\n",
            "dtype: object\n",
            "\n",
            "Tipe data df setelah transformasi:\n",
            " order_id          int64\n",
            "order_date       object\n",
            "customer_id       int64\n",
            "city           category\n",
            "province         object\n",
            "product_id       object\n",
            "brand            object\n",
            "quantity        float32\n",
            "item_price        int64\n",
            "dtype: object\n"
          ]
        }
      ]
    },
    {
      "cell_type": "markdown",
      "metadata": {
        "id": "ynKVM8_uonbx"
      },
      "source": [
        "Method `.apply()` digunakan untuk menerapkan suatu fungsi python (yang dibuat dengan def atau anonymous dengan lambda) pada dataframe/series atau hanya kolom tertentu dari dataframe. \n",
        "\n",
        "Berikut ini adalah contohnya yaitu akan merubah setiap baris pada kolom brand menjadi lowercase.  "
      ]
    },
    {
      "cell_type": "markdown",
      "metadata": {
        "id": "ypfpDiK1ouQ2"
      },
      "source": [
        "Method `.map()` hanya dapat diterapkan pada series atau dataframe yang diakses satu kolom saja. Method ini digunakan untuk mensubstitusikan suatu nilai ke dalam tiap baris datanya.\n",
        "\n",
        "Mari lihat contoh yang diberikan berikut ini yang mana akan ambil huruf terakhir dari brand"
      ]
    },
    {
      "cell_type": "code",
      "metadata": {
        "id": "ZyhQVuV8olqE",
        "colab": {
          "base_uri": "https://localhost:8080/"
        },
        "outputId": "9cd57e9f-ee8c-4e5d-8e30-3a10dca81db3"
      },
      "source": [
        "import pandas as pd\n",
        "# Baca file sample_csv.csv\n",
        "df = pd.read_csv(\"https://storage.googleapis.com/dqlab-dataset/sample_csv.csv\")\n",
        "# Cetak 5 baris teratas kolom brand\n",
        "df[\"brand\"].head()"
      ],
      "execution_count": 14,
      "outputs": [
        {
          "output_type": "execute_result",
          "data": {
            "text/plain": [
              "0    BRAND_C\n",
              "1    BRAND_V\n",
              "2    BRAND_G\n",
              "3    BRAND_B\n",
              "4    BRAND_G\n",
              "Name: brand, dtype: object"
            ]
          },
          "metadata": {},
          "execution_count": 14
        }
      ]
    },
    {
      "cell_type": "code",
      "metadata": {
        "id": "br3JP5fYeB64",
        "colab": {
          "base_uri": "https://localhost:8080/"
        },
        "outputId": "6c6866a9-b92e-473d-e1a1-82c0f4e33f50"
      },
      "source": [
        "# Gunakan method apply untuk merubah isi kolom menjadi lower case\n",
        "df[\"brand\"] = df[\"brand\"].apply(lambda x: x.lower())\n",
        "# Cetak 5 baris teratas kolom brand\n",
        "df[\"brand\"].head()"
      ],
      "execution_count": 15,
      "outputs": [
        {
          "output_type": "execute_result",
          "data": {
            "text/plain": [
              "0    brand_c\n",
              "1    brand_v\n",
              "2    brand_g\n",
              "3    brand_b\n",
              "4    brand_g\n",
              "Name: brand, dtype: object"
            ]
          },
          "metadata": {},
          "execution_count": 15
        }
      ]
    },
    {
      "cell_type": "code",
      "metadata": {
        "id": "hImijERleOGZ",
        "colab": {
          "base_uri": "https://localhost:8080/"
        },
        "outputId": "fc89a908-202d-4c02-ddd9-d2c167b3af95"
      },
      "source": [
        "# Gunakan method map untuk mengambil kode brand yaitu karakter terakhirnya\n",
        "df[\"brand\"] = df[\"brand\"].map(lambda x: x[-1])\n",
        "# Cetak 5 baris teratas kolom brand\n",
        "df[\"brand\"].head()"
      ],
      "execution_count": 16,
      "outputs": [
        {
          "output_type": "execute_result",
          "data": {
            "text/plain": [
              "0    c\n",
              "1    v\n",
              "2    g\n",
              "3    b\n",
              "4    g\n",
              "Name: brand, dtype: object"
            ]
          },
          "metadata": {},
          "execution_count": 16
        }
      ]
    },
    {
      "cell_type": "markdown",
      "metadata": {
        "id": "o3uiAEMQq9Yo"
      },
      "source": [
        "sebelumnya sudah mengetahui bahwa map hanya dapat digunakan untuk pandas series. Sekarang akan menggunakan method `.applymap` pada dataframe."
      ]
    },
    {
      "cell_type": "code",
      "metadata": {
        "id": "AP-ZwESwrEB4",
        "colab": {
          "base_uri": "https://localhost:8080/"
        },
        "outputId": "ecbd95f9-1daa-46ad-c8e1-3c383caf3c2b"
      },
      "source": [
        "import numpy as np\n",
        "import pandas as pd\n",
        "# number generator, set angka seed menjadi suatu angka, bisa semua angka, supaya hasil random nya selalu sama ketika kita run\n",
        "np.random.seed(1234)\n",
        "# create dataframe 3 baris dan 4 kolom dengan angka random\n",
        "df_tr = pd.DataFrame(np.random.rand(3,4))\n",
        "# Cetak dataframe\n",
        "print(\"Dataframe:\\n\", df_tr)\n",
        "# Cara 1 dengan tanpa define function awalnya, langsung pake fungsi anonymous lambda x\n",
        "df_tr1 = df_tr.applymap(lambda x: x**2+3*x+2) \n",
        "print(\"\\nDataframe - cara 1:\\n\", df_tr1)\n",
        "# Cara 2 dengan define function \n",
        "def qudratic_fun(x):\n",
        "\treturn x**2+3*x+2\n",
        "df_tr2 = df_tr.applymap(qudratic_fun)\n",
        "print(\"\\nDataframe - cara 2:\\n\", df_tr2)"
      ],
      "execution_count": 17,
      "outputs": [
        {
          "output_type": "stream",
          "name": "stdout",
          "text": [
            "Dataframe:\n",
            "           0         1         2         3\n",
            "0  0.191519  0.622109  0.437728  0.785359\n",
            "1  0.779976  0.272593  0.276464  0.801872\n",
            "2  0.958139  0.875933  0.357817  0.500995\n",
            "\n",
            "Dataframe - cara 1:\n",
            "           0         1         2         3\n",
            "0  2.611238  4.253346  3.504789  4.972864\n",
            "1  4.948290  2.892085  2.905825  5.048616\n",
            "2  5.792449  5.395056  3.201485  3.753981\n",
            "\n",
            "Dataframe - cara 2:\n",
            "           0         1         2         3\n",
            "0  2.611238  4.253346  3.504789  4.972864\n",
            "1  4.948290  2.892085  2.905825  5.048616\n",
            "2  5.792449  5.395056  3.201485  3.753981\n"
          ]
        }
      ]
    }
  ]
}