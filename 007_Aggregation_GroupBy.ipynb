{
  "nbformat": 4,
  "nbformat_minor": 0,
  "metadata": {
    "colab": {
      "name": "007-Aggregation_GroupBy.ipynb",
      "provenance": [],
      "authorship_tag": "ABX9TyONd/ydxnCNeqKSVBvhowXS",
      "include_colab_link": true
    },
    "kernelspec": {
      "name": "python3",
      "display_name": "Python 3"
    },
    "language_info": {
      "name": "python"
    }
  },
  "cells": [
    {
      "cell_type": "markdown",
      "metadata": {
        "id": "view-in-github",
        "colab_type": "text"
      },
      "source": [
        "<a href=\"https://colab.research.google.com/github/dikoharyadhanto/Pandas-Documentation/blob/main/007_Aggregation_GroupBy.ipynb\" target=\"_parent\"><img src=\"https://colab.research.google.com/assets/colab-badge.svg\" alt=\"Open In Colab\"/></a>"
      ]
    },
    {
      "cell_type": "markdown",
      "metadata": {
        "id": "K9_YSQ2ebjra"
      },
      "source": [
        "Teknik agregasi diperlukan ketika mau melihat dataset dengan view yang berbeda, bisa set data tersebut akan dikelompokkan seperti apa, yang kemudian juga bisa menerapkan beberapa fungsi atau metode statistik ke hasil group dataset itu untuk mengetahui behavior dari data tersebut secara summary/overview."
      ]
    },
    {
      "cell_type": "markdown",
      "metadata": {
        "id": "kX5GMb3DbopO"
      },
      "source": [
        "![image.png](data:image/png;base64,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)"
      ]
    },
    {
      "cell_type": "markdown",
      "metadata": {
        "id": "9YEjNJVFb0rF"
      },
      "source": [
        "Groupby memiliki konsep untuk\n",
        "- Split: melakukan indexing/multi-indexing dengan apa yang di specify as groupby menjadi kelompok\n",
        "- Apply: menerapkan fungsi pada masing-masing kelompok tersebut\n",
        "- Combine: mengumpulkan semua hasil fungsi dari tiap kelompok kembali menjadi dataframe"
      ]
    },
    {
      "cell_type": "markdown",
      "metadata": {
        "id": "F-hMNuv3cITI"
      },
      "source": [
        "# **Review Inspeksi Data**"
      ]
    },
    {
      "cell_type": "code",
      "metadata": {
        "id": "bvSGipzSbi3d",
        "colab": {
          "base_uri": "https://localhost:8080/"
        },
        "outputId": "b112ced5-6b47-4679-d485-5a1fc2d711a8"
      },
      "source": [
        "import pandas as pd\n",
        "# Load data global_air_quality.csv\n",
        "global_air_quality = pd.read_csv('https://storage.googleapis.com/dqlab-dataset/LO4/global_air_quality_4000rows.csv')\n",
        "print('Lima data teratas:\\n', global_air_quality.head())"
      ],
      "execution_count": 1,
      "outputs": [
        {
          "output_type": "stream",
          "name": "stdout",
          "text": [
            "Lima data teratas:\n",
            "                           location  ... averaged_over_in_hours\n",
            "0                  MOBILE-KICKAPOO  ...                   1.00\n",
            "1                  Oxford St Ebbes  ...                   1.00\n",
            "2                 BROADWAY (South)  ...                   1.00\n",
            "3  Deen Dayal Nagar, Sagar - MPPCB  ...                   0.25\n",
            "4                        Manglerud  ...                   1.00\n",
            "\n",
            "[5 rows x 11 columns]\n"
          ]
        }
      ]
    },
    {
      "cell_type": "code",
      "metadata": {
        "id": "X_imnNfwbglf",
        "colab": {
          "base_uri": "https://localhost:8080/"
        },
        "outputId": "d6728144-e677-4364-f6df-cacb123da2fd"
      },
      "source": [
        "# Melakukan pengecekan terhadap data\n",
        "print('Info global_air_quality:\\n', global_air_quality.info())"
      ],
      "execution_count": 2,
      "outputs": [
        {
          "output_type": "stream",
          "name": "stdout",
          "text": [
            "<class 'pandas.core.frame.DataFrame'>\n",
            "RangeIndex: 4000 entries, 0 to 3999\n",
            "Data columns (total 11 columns):\n",
            " #   Column                  Non-Null Count  Dtype  \n",
            "---  ------                  --------------  -----  \n",
            " 0   location                3997 non-null   object \n",
            " 1   city                    3966 non-null   object \n",
            " 2   country                 4000 non-null   object \n",
            " 3   pollutant               4000 non-null   object \n",
            " 4   value                   4000 non-null   float64\n",
            " 5   timestamp               4000 non-null   object \n",
            " 6   unit                    4000 non-null   object \n",
            " 7   source_name             4000 non-null   object \n",
            " 8   latitude                4000 non-null   float64\n",
            " 9   longitude               4000 non-null   float64\n",
            " 10  averaged_over_in_hours  3634 non-null   float64\n",
            "dtypes: float64(4), object(7)\n",
            "memory usage: 343.9+ KB\n",
            "Info global_air_quality:\n",
            " None\n"
          ]
        }
      ]
    },
    {
      "cell_type": "code",
      "metadata": {
        "id": "2U9k5i5Ucm1p",
        "colab": {
          "base_uri": "https://localhost:8080/"
        },
        "outputId": "d4e73f2b-bd48-42c1-f29d-ab5dd97a2a5b"
      },
      "source": [
        "# Melakukan count tanpa groupby\n",
        "print('Count tanpa groupby:\\n', global_air_quality.count())"
      ],
      "execution_count": 3,
      "outputs": [
        {
          "output_type": "stream",
          "name": "stdout",
          "text": [
            "Count tanpa groupby:\n",
            " location                  3997\n",
            "city                      3966\n",
            "country                   4000\n",
            "pollutant                 4000\n",
            "value                     4000\n",
            "timestamp                 4000\n",
            "unit                      4000\n",
            "source_name               4000\n",
            "latitude                  4000\n",
            "longitude                 4000\n",
            "averaged_over_in_hours    3634\n",
            "dtype: int64\n"
          ]
        }
      ]
    },
    {
      "cell_type": "code",
      "metadata": {
        "id": "QkSFZZ-_c58I",
        "colab": {
          "base_uri": "https://localhost:8080/"
        },
        "outputId": "8ce147c6-5d16-42da-e4cf-7ee02dbfa46b"
      },
      "source": [
        "# Melakukan count dengan groupby \n",
        "gaq_groupby_count = global_air_quality.groupby('source_name').count()\n",
        "print('Count dengan groupby (5 data teratas):\\n', gaq_groupby_count.head())"
      ],
      "execution_count": 4,
      "outputs": [
        {
          "output_type": "stream",
          "name": "stdout",
          "text": [
            "Count dengan groupby (5 data teratas):\n",
            "              location  city  ...  longitude  averaged_over_in_hours\n",
            "source_name                  ...                                   \n",
            "ARPALAZIO          72    72  ...         72                      72\n",
            "Agaar.mn           27    27  ...         27                       0\n",
            "AirNow           1712  1681  ...       1715                    1715\n",
            "Andalucia          71    71  ...         71                      71\n",
            "Anqing              4     4  ...          4                       4\n",
            "\n",
            "[5 rows x 10 columns]\n"
          ]
        }
      ]
    },
    {
      "cell_type": "markdown",
      "metadata": {
        "id": "nQO7lqMtdEXb"
      },
      "source": [
        "Terdapat perbedaan antara melakukan count dengan groupby dan tanpa groupby\n",
        "1. Terdapat index apa yang di specify as groupby\n",
        "2. Perhitungan jadi berdasarkan apa yang di specify as groupby\n",
        "3. Overall, lebih mudah untuk membaca data summary yang telah di groupby"
      ]
    },
    {
      "cell_type": "markdown",
      "metadata": {
        "id": "hcEyUGoGdKWa"
      },
      "source": [
        "# **Groupby dan Aggregasi dengan Fungsi Statistik Dasar**"
      ]
    },
    {
      "cell_type": "markdown",
      "metadata": {
        "id": "lG4iwhZKegij"
      },
      "source": [
        "menerapkan `groupby` dan fungsi aggregasi `mean` dan `std`untuk menentukan nilai rata-rata dan standar deviasi dari masing-masing kelompok data dari dataset"
      ]
    },
    {
      "cell_type": "code",
      "metadata": {
        "id": "Yyi60ACHelSm",
        "colab": {
          "base_uri": "https://localhost:8080/"
        },
        "outputId": "65b49198-b46c-46ed-b3f9-271f820b4a82"
      },
      "source": [
        "import pandas as pd\n",
        "# Load data global_air_quality.csv\n",
        "gaq = pd.read_csv('https://storage.googleapis.com/dqlab-dataset/LO4/global_air_quality_4000rows.csv')\n",
        "# Create variabel pollutant \n",
        "pollutant = gaq[['country','city','pollutant','value']].pivot_table(index=['country','city'],columns='pollutant').fillna(0)\n",
        "print('Data pollutant (5 teratas):\\n', pollutant.head())"
      ],
      "execution_count": 5,
      "outputs": [
        {
          "output_type": "stream",
          "name": "stdout",
          "text": [
            "Data pollutant (5 teratas):\n",
            "                      value                                     \n",
            "pollutant               bc      co   no2   o3   pm10  pm25  so2\n",
            "country city                                                   \n",
            "AR      Buenos Aires   0.0     0.0   0.0  0.0    0.0  18.1  0.0\n",
            "AU      Townsville     0.0     0.0   0.0  0.0    0.0   3.9  0.0\n",
            "BA      Goražde        0.0   141.0  19.0  8.0    0.0   0.0  0.0\n",
            "        Ilijaš         0.0     0.0   0.0  0.0  100.0   0.0  0.0\n",
            "        Jajce          0.0  1508.0  25.0  6.0    9.0   0.0  0.0\n"
          ]
        }
      ]
    },
    {
      "cell_type": "code",
      "metadata": {
        "id": "BOzRwmaoet6H",
        "colab": {
          "base_uri": "https://localhost:8080/"
        },
        "outputId": "c5dcd71d-69db-450e-d331-f941241a08db"
      },
      "source": [
        "# [1] Group berdasarkan country dan terapkan aggregasi mean\n",
        "pollutant_mean = pollutant.groupby('country').mean()\n",
        "print('Rata-rata pollutant (5 teratas):\\n', pollutant_mean.head())"
      ],
      "execution_count": 6,
      "outputs": [
        {
          "output_type": "stream",
          "name": "stdout",
          "text": [
            "Rata-rata pollutant (5 teratas):\n",
            "           value                         ...                                 \n",
            "pollutant    bc          co        no2  ...       pm10       pm25        so2\n",
            "country                                 ...                                 \n",
            "AR          0.0    0.000000   0.000000  ...   0.000000  18.100000   0.000000\n",
            "AU          0.0    0.000000   0.000000  ...   0.000000   3.900000   0.000000\n",
            "BA          0.0  475.833333  19.500000  ...  40.333333   0.000000  18.000000\n",
            "CA          0.0    0.036818   0.000355  ...   0.836364   3.433601   0.000091\n",
            "CL          0.0    0.000000  21.000000  ...   0.000000   0.000000   0.000000\n",
            "\n",
            "[5 rows x 7 columns]\n"
          ]
        }
      ]
    },
    {
      "cell_type": "code",
      "metadata": {
        "id": "6F-chQa3fO1T",
        "colab": {
          "base_uri": "https://localhost:8080/"
        },
        "outputId": "9f4abba9-dfdb-409e-c14b-8226a05b368b"
      },
      "source": [
        "# [2] Group berdasarkan country dan terapkan aggregasi std\n",
        "pollutant_std = pollutant.groupby('country').std().fillna(0)\n",
        "print('Standar deviasi pollutant (5 teratas):\\n', pollutant_std.head())"
      ],
      "execution_count": 7,
      "outputs": [
        {
          "output_type": "stream",
          "name": "stdout",
          "text": [
            "Standar deviasi pollutant (5 teratas):\n",
            "         value                                                                 \n",
            "           bc          co        no2        o3       pm10      pm25        so2\n",
            "country                                                                       \n",
            "AR        0.0    0.000000   0.000000  0.000000   0.000000  0.000000   0.000000\n",
            "AU        0.0    0.000000   0.000000  0.000000   0.000000  0.000000   0.000000\n",
            "BA        0.0  536.925476  11.945711  8.207720  46.701891  0.000000  30.403947\n",
            "CA        0.0    0.089841   0.000750  0.019323   1.713052  2.286509   0.000302\n",
            "CL        0.0    0.000000   0.000000  0.000000   0.000000  0.000000   0.000000\n"
          ]
        }
      ]
    },
    {
      "cell_type": "markdown",
      "metadata": {
        "id": "x5n8yZ87fhP5"
      },
      "source": [
        "[3] Group berdasarkan country dan terapkan aggregasi sum, method `.sum()` setelah penerapan method `.groupby()` digunakan untuk mencari total nilai dari tiap kelompok"
      ]
    },
    {
      "cell_type": "code",
      "metadata": {
        "id": "LAK0rrCqgB-7",
        "colab": {
          "base_uri": "https://localhost:8080/"
        },
        "outputId": "3f780a9f-fd52-4df6-8ce8-069b8b2bd3c3"
      },
      "source": [
        "# [3] Group berdasarkan country dan terapkan aggregasi sum\n",
        "pollutant_sum = pollutant.groupby('country').sum()\n",
        "print('Total pollutant (5 teratas):\\n', pollutant_sum.head())"
      ],
      "execution_count": 8,
      "outputs": [
        {
          "output_type": "stream",
          "name": "stdout",
          "text": [
            "Total pollutant (5 teratas):\n",
            "           value                                                          \n",
            "pollutant    bc        co       no2         o3   pm10       pm25      so2\n",
            "country                                                                  \n",
            "AR          0.0     0.000    0.0000   0.000000    0.0  18.100000    0.000\n",
            "AU          0.0     0.000    0.0000   0.000000    0.0   3.900000    0.000\n",
            "BA          0.0  2855.000  117.0000  35.000000  242.0   0.000000  108.000\n",
            "CA          0.0     0.405    0.0039   0.285593    9.2  37.769608    0.001\n",
            "CL          0.0     0.000   21.0000   0.000000    0.0   0.000000    0.000\n"
          ]
        }
      ]
    },
    {
      "cell_type": "markdown",
      "metadata": {
        "id": "k2paqwYUgEAv"
      },
      "source": [
        "[4] Group berdasarkan country dan terapkan aggregasi `nunique`, method `.nunique()` setelah penerapan method `.groupby()` digunakan untuk mencari berapakah jumlah unique value dari tiap kelompok"
      ]
    },
    {
      "cell_type": "code",
      "metadata": {
        "id": "Jhp8zR74gLkl",
        "colab": {
          "base_uri": "https://localhost:8080/"
        },
        "outputId": "c81efba1-2fe8-4004-b0c6-46649c31b3b3"
      },
      "source": [
        "# [4] Group berdasarkan country dan terapkan aggregasi nunique\n",
        "pollutant_nunique = pollutant.groupby('country').nunique()\n",
        "print('Jumlah unique value pollutant (5 teratas):\\n', pollutant_nunique.head())"
      ],
      "execution_count": 9,
      "outputs": [
        {
          "output_type": "stream",
          "name": "stdout",
          "text": [
            "Jumlah unique value pollutant (5 teratas):\n",
            "           value                        \n",
            "pollutant    bc co no2 o3 pm10 pm25 so2\n",
            "country                                \n",
            "AR            1  1   1  1    1    1   1\n",
            "AU            1  1   1  1    1    1   1\n",
            "BA            1  6   6  4    5    1   4\n",
            "CA            1  3   4  9    4   10   2\n",
            "CL            1  1   1  1    1    1   1\n"
          ]
        }
      ]
    },
    {
      "cell_type": "markdown",
      "metadata": {
        "id": "-7YSfWcbgvik"
      },
      "source": [
        "[5] Group berdasarkan country dan terapkan aggregasi min, method `.min()` setelah penerapan method `.groupby()`digunakan untuk memunculkan nilai terkecil dari tiap kelompok"
      ]
    },
    {
      "cell_type": "code",
      "metadata": {
        "id": "JrivUIxnhL_9",
        "colab": {
          "base_uri": "https://localhost:8080/"
        },
        "outputId": "8326cb31-11c5-469f-c724-2aa120021e26"
      },
      "source": [
        "# Group berdasarkan country dan terapkan aggregasi min\n",
        "pollutant_min = pollutant.groupby('country').min()\n",
        "print('nilai min pollutant (5 teratas):\\n', pollutant_min.head())"
      ],
      "execution_count": 10,
      "outputs": [
        {
          "output_type": "stream",
          "name": "stdout",
          "text": [
            "nilai min pollutant (5 teratas):\n",
            "           value                                \n",
            "pollutant    bc   co   no2   o3 pm10  pm25  so2\n",
            "country                                        \n",
            "AR          0.0  0.0   0.0  0.0  0.0  18.1  0.0\n",
            "AU          0.0  0.0   0.0  0.0  0.0   3.9  0.0\n",
            "BA          0.0  0.0   0.0  0.0  0.0   0.0  0.0\n",
            "CA          0.0  0.0   0.0  0.0  0.0   0.0  0.0\n",
            "CL          0.0  0.0  21.0  0.0  0.0   0.0  0.0\n"
          ]
        }
      ]
    },
    {
      "cell_type": "markdown",
      "metadata": {
        "id": "fy_YQe8_g0h7"
      },
      "source": [
        "[6] Group berdasarkan country dan terapkan aggregasi max, method `.max()` setelah penerapan method `.groupby()` digunakan untuk memunculkan nilai terbesar dari tiap kelompok"
      ]
    },
    {
      "cell_type": "code",
      "metadata": {
        "id": "pqJCIy8AhWjq",
        "colab": {
          "base_uri": "https://localhost:8080/"
        },
        "outputId": "cfda18e9-007b-4549-e536-45344f7d8fd2"
      },
      "source": [
        "# Group berdasarkan country dan terapkan aggregasi max\n",
        "pollutant_max = pollutant.groupby('country').max()\n",
        "print('nilai max pollutant (5 teratas):\\n', pollutant_max.head())"
      ],
      "execution_count": 11,
      "outputs": [
        {
          "output_type": "stream",
          "name": "stdout",
          "text": [
            "nilai max pollutant (5 teratas):\n",
            "           value                                                   \n",
            "pollutant    bc        co      no2         o3   pm10  pm25     so2\n",
            "country                                                           \n",
            "AR          0.0     0.000   0.0000   0.000000    0.0  18.1   0.000\n",
            "AU          0.0     0.000   0.0000   0.000000    0.0   3.9   0.000\n",
            "BA          0.0  1508.000  32.0000  21.000000  100.0   0.0  78.000\n",
            "CA          0.0     0.285   0.0024   0.048333    5.2   6.0   0.001\n",
            "CL          0.0     0.000  21.0000   0.000000    0.0   0.0   0.000\n"
          ]
        }
      ]
    },
    {
      "cell_type": "markdown",
      "metadata": {
        "id": "TX_Uaovyhdc0"
      },
      "source": [
        "Gunakanlah method `.first()` dan `.last()` untuk aggregasi setelah penerapan `.groupby()` yang masing-masingnya bertujuan untuk memunculkan item pertama dan item terakhir dari tiap kelompok."
      ]
    },
    {
      "cell_type": "code",
      "metadata": {
        "id": "yT6ci4dohlMQ",
        "colab": {
          "base_uri": "https://localhost:8080/"
        },
        "outputId": "34710f47-dec0-420d-a0d1-e83f591aa373"
      },
      "source": [
        "# Group berdasarkan country dan terapkan aggregasi first\n",
        "pollutant_first = pollutant.groupby('country').first()\n",
        "print('Item pertama pollutant (5 teratas):\\n', pollutant_first.head())"
      ],
      "execution_count": 12,
      "outputs": [
        {
          "output_type": "stream",
          "name": "stdout",
          "text": [
            "Item pertama pollutant (5 teratas):\n",
            "           value                                            \n",
            "pollutant    bc       co      no2        o3 pm10  pm25  so2\n",
            "country                                                    \n",
            "AR          0.0    0.000   0.0000  0.000000  0.0  18.1  0.0\n",
            "AU          0.0    0.000   0.0000  0.000000  0.0   3.9  0.0\n",
            "BA          0.0  141.000  19.0000  8.000000  0.0   0.0  0.0\n",
            "CA          0.0    0.285   0.0024  0.048333  0.0   3.9  0.0\n",
            "CL          0.0    0.000  21.0000  0.000000  0.0   0.0  0.0\n"
          ]
        }
      ]
    },
    {
      "cell_type": "code",
      "metadata": {
        "id": "MFcLn358huHK",
        "colab": {
          "base_uri": "https://localhost:8080/"
        },
        "outputId": "dfeebec2-a7f4-4e96-84ca-48f6b2b24d87"
      },
      "source": [
        "# Group berdasarkan country dan terapkan aggregasi last\n",
        "pollutant_last = pollutant.groupby('country').last()\n",
        "print('Item terakhir pollutant (5 teratas):\\n', pollutant_last.head())"
      ],
      "execution_count": 13,
      "outputs": [
        {
          "output_type": "stream",
          "name": "stdout",
          "text": [
            "Item terakhir pollutant (5 teratas):\n",
            "           value                                      \n",
            "pollutant    bc     co   no2     o3  pm10  pm25   so2\n",
            "country                                              \n",
            "AR          0.0    0.0   0.0  0.000   0.0  18.1   0.0\n",
            "AU          0.0    0.0   0.0  0.000   0.0   3.9   0.0\n",
            "BA          0.0  292.0  29.0  0.000  96.0   0.0  78.0\n",
            "CA          0.0    0.0   0.0  0.036   3.0   0.0   0.0\n",
            "CL          0.0    0.0  21.0  0.000   0.0   0.0   0.0\n"
          ]
        }
      ]
    },
    {
      "cell_type": "markdown",
      "metadata": {
        "id": "mdlETT-fi38t"
      },
      "source": [
        "# **Groupby dengan Multiple Aggregations**"
      ]
    },
    {
      "cell_type": "markdown",
      "metadata": {
        "id": "nCAMv65Xi5Tx"
      },
      "source": [
        "menggunakan grouby dengan multiple aggregations yang berupa kombinasi antara beberapa fungsi."
      ]
    },
    {
      "cell_type": "code",
      "metadata": {
        "id": "JWHJ1wJni8UY",
        "colab": {
          "base_uri": "https://localhost:8080/"
        },
        "outputId": "4b1e1e8a-577c-49ac-da34-0c31b0a24963"
      },
      "source": [
        "import pandas as pd\n",
        "# Load data https://storage.googleapis.com/dqlab-dataset/LO4/global_air_quality_4000rows.csv\n",
        "gaq = pd.read_csv('https://storage.googleapis.com/dqlab-dataset/LO4/global_air_quality_4000rows.csv')\n",
        "# Create variabel pollutant \n",
        "pollutant = gaq[['country','city','pollutant','value']].pivot_table(index=['country','city'],columns='pollutant').fillna(0)\n",
        "print('Data pollutant (5 teratas):\\n', pollutant.head())\n",
        "# Group berdasarkan country dan terapkan aggregasi: min, median, mean, max\n",
        "multiagg = pollutant.groupby('country').agg(['min','median','mean','max'])\n",
        "print('Multiple aggregations (5 teratas):\\n', multiagg.head())"
      ],
      "execution_count": 14,
      "outputs": [
        {
          "output_type": "stream",
          "name": "stdout",
          "text": [
            "Data pollutant (5 teratas):\n",
            "                      value                                     \n",
            "pollutant               bc      co   no2   o3   pm10  pm25  so2\n",
            "country city                                                   \n",
            "AR      Buenos Aires   0.0     0.0   0.0  0.0    0.0  18.1  0.0\n",
            "AU      Townsville     0.0     0.0   0.0  0.0    0.0   3.9  0.0\n",
            "BA      Goražde        0.0   141.0  19.0  8.0    0.0   0.0  0.0\n",
            "        Ilijaš         0.0     0.0   0.0  0.0  100.0   0.0  0.0\n",
            "        Jajce          0.0  1508.0  25.0  6.0    9.0   0.0  0.0\n",
            "Multiple aggregations (5 teratas):\n",
            "         value                        ...                                     \n",
            "           bc                    co  ...  pm25  so2                          \n",
            "          min median mean  max  min  ...   max  min median       mean     max\n",
            "country                              ...                                     \n",
            "AR        0.0    0.0  0.0  0.0  0.0  ...  18.1  0.0    0.0   0.000000   0.000\n",
            "AU        0.0    0.0  0.0  0.0  0.0  ...   3.9  0.0    0.0   0.000000   0.000\n",
            "BA        0.0    0.0  0.0  0.0  0.0  ...   0.0  0.0    5.5  18.000000  78.000\n",
            "CA        0.0    0.0  0.0  0.0  0.0  ...   6.0  0.0    0.0   0.000091   0.001\n",
            "CL        0.0    0.0  0.0  0.0  0.0  ...   0.0  0.0    0.0   0.000000   0.000\n",
            "\n",
            "[5 rows x 28 columns]\n"
          ]
        }
      ]
    },
    {
      "cell_type": "markdown",
      "metadata": {
        "id": "nRTK1Dd7DOk9"
      },
      "source": [
        "# **Groupby dengan Custom Aggregations**"
      ]
    },
    {
      "cell_type": "markdown",
      "metadata": {
        "id": "6Ue8gOJhDRWg"
      },
      "source": [
        "Dengan membuat sebuah Python function (user defined) dapat menggunakan sebagai custom aggregation pada dataframe yang telah digroupby."
      ]
    },
    {
      "cell_type": "code",
      "metadata": {
        "id": "5XWwN2e-DVSp",
        "colab": {
          "base_uri": "https://localhost:8080/"
        },
        "outputId": "64006877-c272-4e1a-cb2b-9f94add0f7af"
      },
      "source": [
        "import pandas as pd\n",
        "# Load data https://storage.googleapis.com/dqlab-dataset/LO4/global_air_quality_4000rows.csv\n",
        "gaq = pd.read_csv('https://storage.googleapis.com/dqlab-dataset/LO4/global_air_quality_4000rows.csv')\n",
        "# Create variabel pollutant \n",
        "pollutant = gaq[['country','city','pollutant','value']].pivot_table(index=['country','city'],columns='pollutant').fillna(0)\n",
        "# Create sebuah function: iqr\n",
        "def iqr(series):\n",
        "\tQ1 = series.quantile(0.25)\n",
        "\tQ3 = series.quantile(0.75)\n",
        "\treturn Q3-Q1\n",
        "# Group berdasarkan country dan terapkan aggregasi dari function: iqr\n",
        "custom_agg =pollutant.groupby('country').agg(iqr)\n",
        "print('Custom aggregation (5 teratas):\\n', custom_agg.head())"
      ],
      "execution_count": 15,
      "outputs": [
        {
          "output_type": "stream",
          "name": "stdout",
          "text": [
            "Custom aggregation (5 teratas):\n",
            "         value                                                  \n",
            "           bc      co       no2        o3  pm10      pm25   so2\n",
            "country                                                        \n",
            "AR        0.0    0.00   0.00000  0.000000   0.0  0.000000   0.0\n",
            "AU        0.0    0.00   0.00000  0.000000   0.0  0.000000   0.0\n",
            "BA        0.0  297.75  14.25000  7.500000  79.0  0.000000  17.0\n",
            "CA        0.0    0.00   0.00025  0.035708   0.5  3.876471   0.0\n",
            "CL        0.0    0.00   0.00000  0.000000   0.0  0.000000   0.0\n"
          ]
        }
      ]
    },
    {
      "cell_type": "markdown",
      "metadata": {
        "id": "kPfttg8-ENxm"
      },
      "source": [
        "# **Groupby dengan Custom Aggregations by dict**"
      ]
    },
    {
      "cell_type": "markdown",
      "metadata": {
        "id": "hEhI6LiCEP9n"
      },
      "source": [
        "Penggunaan custom aggregation lainnya pada dataframe yang telah digroupby dapat dilakukan dengan mempasskan sebuah dict yang berisi 'key' dict sebagai nama kolomnya dan 'value' dict adalah fungsi untuk aggregasi, baik user defined function atau yang telah tersedia."
      ]
    },
    {
      "cell_type": "code",
      "metadata": {
        "id": "0im8qw3kEc6t",
        "colab": {
          "base_uri": "https://localhost:8080/"
        },
        "outputId": "a9f6d5fb-decb-4f9b-f956-23408d65527c"
      },
      "source": [
        "import pandas as pd\n",
        "# Load data https://storage.googleapis.com/dqlab-dataset/LO4/global_air_quality_4000rows.csv\n",
        "gaq = pd.read_csv(\"https://storage.googleapis.com/dqlab-dataset/LO4/global_air_quality_4000rows.csv\")\n",
        "# Create variabel pollutant \n",
        "pollutant = gaq[['country','city','pollutant','value']].pivot_table(index=['country','city'],columns='pollutant').fillna(0)\n",
        "print('Data pollutant (5 teratas):\\n', pollutant.head())"
      ],
      "execution_count": 16,
      "outputs": [
        {
          "output_type": "stream",
          "name": "stdout",
          "text": [
            "Data pollutant (5 teratas):\n",
            "                      value                                     \n",
            "pollutant               bc      co   no2   o3   pm10  pm25  so2\n",
            "country city                                                   \n",
            "AR      Buenos Aires   0.0     0.0   0.0  0.0    0.0  18.1  0.0\n",
            "AU      Townsville     0.0     0.0   0.0  0.0    0.0   3.9  0.0\n",
            "BA      Goražde        0.0   141.0  19.0  8.0    0.0   0.0  0.0\n",
            "        Ilijaš         0.0     0.0   0.0  0.0  100.0   0.0  0.0\n",
            "        Jajce          0.0  1508.0  25.0  6.0    9.0   0.0  0.0\n"
          ]
        }
      ]
    },
    {
      "cell_type": "markdown",
      "metadata": {
        "id": "y0_ZfD0eEXKm"
      },
      "source": [
        "tentukanlah median untuk kolom 'pm10' serta iqr untuk kolom 'pm25' dan 'so2'. Tampilkan pula 5 data teratas saja."
      ]
    },
    {
      "cell_type": "code",
      "metadata": {
        "id": "7KbtNjT8E7C6",
        "colab": {
          "base_uri": "https://localhost:8080/"
        },
        "outputId": "e88b13a7-6557-43f7-95e1-877a6eebd2eb"
      },
      "source": [
        "# Function IQR\n",
        "def iqr(series):\n",
        "\treturn series.quantile(0.75) - series.quantile(0.25)\n",
        "# Create custom aggregation using dict\n",
        "custom_agg_dict = pollutant['value'][['pm10','pm25','so2']].groupby('country').agg({\n",
        "   'pm10':'median',\n",
        "   'pm25':iqr,\n",
        "   'so2':iqr\n",
        "})\n",
        "print('\\nCetak 5 data teratas custom_agg_dict:\\n', custom_agg_dict.head())"
      ],
      "execution_count": 17,
      "outputs": [
        {
          "output_type": "stream",
          "name": "stdout",
          "text": [
            "\n",
            "Cetak 5 data teratas custom_agg_dict:\n",
            "          pm10      pm25   so2\n",
            "country                      \n",
            "AR        0.0  0.000000   0.0\n",
            "AU        0.0  0.000000   0.0\n",
            "BA       23.0  0.000000  17.0\n",
            "CA        0.0  3.876471   0.0\n",
            "CL        0.0  0.000000   0.0\n"
          ]
        }
      ]
    }
  ]
}